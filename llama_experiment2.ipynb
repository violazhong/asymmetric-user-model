{
 "cells": [
  {
   "cell_type": "code",
   "execution_count": null,
   "id": "35e6ee57-3fc7-4550-92b2-5fa75500249f",
   "metadata": {},
   "outputs": [
    {
     "name": "stdout",
     "output_type": "stream",
     "text": [
      "Starting fast activation patching experiment...\n",
      "Loading model...\n"
     ]
    },
    {
     "name": "stderr",
     "output_type": "stream",
     "text": [
      "Loading checkpoint shards: 100%|██████████| 3/3 [00:04<00:00,  1.64s/it]"
     ]
    },
    {
     "name": "stdout",
     "output_type": "stream",
     "text": [
      "Model loaded successfully\n"
     ]
    },
    {
     "name": "stderr",
     "output_type": "stream",
     "text": [
      "\n"
     ]
    }
   ],
   "source": [
    "import torch\n",
    "import pandas as pd\n",
    "import numpy as np\n",
    "from transformers import AutoModelForCausalLM, AutoTokenizer\n",
    "from tqdm.auto import tqdm\n",
    "import plotly.graph_objects as go\n",
    "from plotly.subplots import make_subplots\n",
    "import os\n",
    "\n",
    "print(\"Starting fast activation patching experiment...\")\n",
    "\n",
    "# Configuration\n",
    "MODEL_NAME = \"meta-llama/Llama-2-13b-chat-hf\"\n",
    "HF_TOKEN = {your_token}\n",
    "CSV_PATH = \"prompts_response_classification.csv\"\n",
    "DATASET_SIZE = 40\n",
    "MAX_LENGTH = 256  # Shorter for speed\n",
    "DEVICE = \"cuda\"\n",
    "\n",
    "torch.set_grad_enabled(False)\n",
    "\n",
    "# Load model with optimizations\n",
    "print(\"Loading model...\")\n",
    "tokenizer = AutoTokenizer.from_pretrained(MODEL_NAME, token=HF_TOKEN)\n",
    "tokenizer.pad_token = tokenizer.eos_token\n",
    "tokenizer.pad_token_id = tokenizer.eos_token_id\n",
    "\n",
    "model = AutoModelForCausalLM.from_pretrained(\n",
    "    MODEL_NAME, \n",
    "    token=HF_TOKEN,\n",
    "    torch_dtype=torch.bfloat16,\n",
    "    device_map=\"cuda:0\"  # Force single GPU\n",
    ")\n",
    "\n",
    "print(\"Model loaded successfully\")"
   ]
  },
  {
   "cell_type": "code",
   "execution_count": 3,
   "id": "0216e22c-8193-4e6d-b284-15359fd15844",
   "metadata": {},
   "outputs": [
    {
     "name": "stdout",
     "output_type": "stream",
     "text": [
      "Dataset: 40 certain, 40 uncertain prompts\n"
     ]
    }
   ],
   "source": [
    "# Load and prepare data\n",
    "df = pd.read_csv(CSV_PATH)\n",
    "certain_prompts = df[df[\"epistemic_status\"] == \"certain\"][\"prompt\"].dropna().tolist()[:DATASET_SIZE]\n",
    "uncertain_prompts = df[df[\"epistemic_status\"] == \"uncertain\"][\"prompt\"].dropna().tolist()[:DATASET_SIZE]\n",
    "\n",
    "print(f\"Dataset: {len(certain_prompts)} certain, {len(uncertain_prompts)} uncertain prompts\")\n",
    "\n",
    "# Get metric tokens\n",
    "certain_token_id = tokenizer.encode(\" is\", add_special_tokens=False)[-1]\n",
    "uncertain_token_id = tokenizer.encode(\" might\", add_special_tokens=False)[-1]"
   ]
  },
  {
   "cell_type": "code",
   "execution_count": 4,
   "id": "467ddfc5-8f1a-41eb-8a8c-8430b1a65fc8",
   "metadata": {},
   "outputs": [],
   "source": [
    "def get_logit_diff(logits, attention_mask):\n",
    "    \"\"\"Fast logit difference calculation\"\"\"\n",
    "    seq_lens = attention_mask.sum(dim=1) - 1\n",
    "    final_logits = logits[torch.arange(logits.shape[0], device=logits.device), seq_lens]\n",
    "    return final_logits[:, certain_token_id] - final_logits[:, uncertain_token_id]"
   ]
  },
  {
   "cell_type": "code",
   "execution_count": 5,
   "id": "d3a4d59e-0ff4-4e69-b39c-83c23ad23ada",
   "metadata": {},
   "outputs": [],
   "source": [
    "def run_patching_experiment(clean_prompts, corrupted_prompts, exp_name):\n",
    "    \"\"\"Unified patching function for both experiments\"\"\"\n",
    "    \n",
    "    print(f\"\\nRunning {exp_name}...\")\n",
    "    \n",
    "    # Tokenize\n",
    "    clean_tokens = tokenizer(clean_prompts, return_tensors=\"pt\", padding=True, \n",
    "                           truncation=True, max_length=MAX_LENGTH).to(DEVICE)\n",
    "    corrupted_tokens = tokenizer(corrupted_prompts, return_tensors=\"pt\", padding=True,\n",
    "                                truncation=True, max_length=MAX_LENGTH).to(DEVICE)\n",
    "    \n",
    "    # Get baselines\n",
    "    with torch.no_grad():\n",
    "        clean_logits = model(**clean_tokens).logits\n",
    "        corrupted_logits = model(**corrupted_tokens).logits\n",
    "    \n",
    "    clean_baseline = get_logit_diff(clean_logits, clean_tokens.attention_mask).mean().item()\n",
    "    corrupted_baseline = get_logit_diff(corrupted_logits, corrupted_tokens.attention_mask).mean().item()\n",
    "    \n",
    "    print(f\"Clean baseline: {clean_baseline:.3f}, Corrupted baseline: {corrupted_baseline:.3f}\")\n",
    "    \n",
    "    # Clear memory\n",
    "    del clean_logits, corrupted_logits\n",
    "    torch.cuda.empty_cache()\n",
    "    \n",
    "    # Patching results\n",
    "    results = torch.zeros(model.config.num_hidden_layers, device=DEVICE)\n",
    "    \n",
    "    for layer_idx in tqdm(range(model.config.num_hidden_layers), desc=f\"{exp_name}\"):\n",
    "        \n",
    "        # Get clean activation for this layer\n",
    "        clean_activation = None\n",
    "        def save_clean(module, input, output):\n",
    "            nonlocal clean_activation\n",
    "            clean_activation = input[0].clone()\n",
    "        \n",
    "        hook = model.model.layers[layer_idx].register_forward_hook(save_clean)\n",
    "        with torch.no_grad():\n",
    "            model(**clean_tokens)\n",
    "        hook.remove()\n",
    "        \n",
    "        # Patch and test\n",
    "        def patch_layer(module, input):\n",
    "            corrupted_resid = input[0]\n",
    "            \n",
    "            # Get sequence positions\n",
    "            clean_seq_lens = clean_tokens.attention_mask.sum(dim=1) - 1\n",
    "            corrupted_seq_lens = corrupted_tokens.attention_mask.sum(dim=1) - 1\n",
    "            batch_indices = torch.arange(corrupted_resid.shape[0], device=corrupted_resid.device)\n",
    "            \n",
    "            # Apply patch\n",
    "            patched_resid = corrupted_resid.clone()\n",
    "            patched_resid[batch_indices, corrupted_seq_lens] = clean_activation[batch_indices, clean_seq_lens]\n",
    "            \n",
    "            return (patched_resid,)\n",
    "        \n",
    "        hook = model.model.layers[layer_idx].register_forward_pre_hook(patch_layer)\n",
    "        \n",
    "        with torch.no_grad():\n",
    "            patched_logits = model(**corrupted_tokens).logits\n",
    "        \n",
    "        hook.remove()\n",
    "        \n",
    "        # Calculate effect\n",
    "        patched_score = get_logit_diff(patched_logits, corrupted_tokens.attention_mask).mean().item()\n",
    "        results[layer_idx] = patched_score\n",
    "        \n",
    "        # Cleanup\n",
    "        del clean_activation, patched_logits\n",
    "        torch.cuda.empty_cache()\n",
    "    \n",
    "    # Normalize\n",
    "    normalized = (results - corrupted_baseline) / (clean_baseline - corrupted_baseline)\n",
    "    return normalized.cpu()"
   ]
  },
  {
   "cell_type": "code",
   "execution_count": 8,
   "id": "ed34f28d-3e7d-4e46-8180-62f20f6cd572",
   "metadata": {},
   "outputs": [
    {
     "name": "stdout",
     "output_type": "stream",
     "text": [
      "Starting experiments...\n",
      "\n",
      "Running 2A: Certainty...\n",
      "Clean baseline: 4.031, Corrupted baseline: 3.859\n"
     ]
    },
    {
     "name": "stderr",
     "output_type": "stream",
     "text": [
      "2A: Certainty: 100%|██████████| 40/40 [00:13<00:00,  3.01it/s]\n"
     ]
    }
   ],
   "source": [
    "# Run both experiments\n",
    "print(\"Starting experiments...\")\n",
    "\n",
    "# Experiment 2A: Certainty restoration\n",
    "results_2a = run_patching_experiment(certain_prompts, uncertain_prompts, \"2A: Certainty\")"
   ]
  },
  {
   "cell_type": "code",
   "execution_count": 9,
   "id": "693f36e1-3e10-4815-841c-09ecc313eecd",
   "metadata": {},
   "outputs": [
    {
     "name": "stdout",
     "output_type": "stream",
     "text": [
      "\n",
      "Running 2B: Uncertainty...\n",
      "Clean baseline: 3.859, Corrupted baseline: 4.031\n"
     ]
    },
    {
     "name": "stderr",
     "output_type": "stream",
     "text": [
      "2B: Uncertainty: 100%|██████████| 40/40 [00:13<00:00,  3.01it/s]\n"
     ]
    }
   ],
   "source": [
    "# Experiment 2B: Uncertainty transfer  \n",
    "results_2b = run_patching_experiment(uncertain_prompts, certain_prompts, \"2B: Uncertainty\")"
   ]
  },
  {
   "cell_type": "code",
   "execution_count": 15,
   "id": "3f571d3b-355e-48ed-bbfa-97f68f0f3932",
   "metadata": {},
   "outputs": [
    {
     "name": "stdout",
     "output_type": "stream",
     "text": [
      "Creating visualization with matplotlib...\n"
     ]
    },
    {
     "data": {
      "image/png": "[encoded data removed]",
      "text/plain": [
       "<Figure size 864x576 with 4 Axes>"
      ]
     },
     "metadata": {
      "needs_background": "light"
     },
     "output_type": "display_data"
    },
    {
     "name": "stdout",
     "output_type": "stream",
     "text": [
      "Visualization displayed above\n"
     ]
    }
   ],
   "source": [
    "# Simple matplotlib visualization for notebook display\n",
    "print(\"Creating visualization with matplotlib...\")\n",
    "\n",
    "import matplotlib.pyplot as plt\n",
    "\n",
    "# Create figure with subplots\n",
    "fig, (ax1, ax2) = plt.subplots(1, 2, figsize=(12, 8))\n",
    "\n",
    "# Plot 2A\n",
    "im1 = ax1.imshow(results_2a.numpy().reshape(-1, 1), cmap='RdBu_r', vmin=-1, vmax=1, aspect='auto')\n",
    "ax1.set_title('Experiment 2A: Certainty Restoration')\n",
    "ax1.set_ylabel('Layer')\n",
    "ax1.set_yticks(range(0, len(results_2a), 5))\n",
    "ax1.set_yticklabels(range(0, len(results_2a), 5))\n",
    "ax1.set_xticks([])\n",
    "\n",
    "# Plot 2B\n",
    "im2 = ax2.imshow(results_2b.numpy().reshape(-1, 1), cmap='RdBu_r', vmin=-1, vmax=1, aspect='auto')\n",
    "ax2.set_title('Experiment 2B: Uncertainty Transfer')\n",
    "ax2.set_ylabel('Layer')\n",
    "ax2.set_yticks(range(0, len(results_2b), 5))\n",
    "ax2.set_yticklabels(range(0, len(results_2b), 5))\n",
    "ax2.set_xticks([])\n",
    "\n",
    "# Add colorbars\n",
    "plt.colorbar(im1, ax=ax1, label='Restoration Score')\n",
    "plt.colorbar(im2, ax=ax2, label='Transfer Score')\n",
    "\n",
    "plt.tight_layout()\n",
    "plt.show()\n",
    "\n",
    "print(\"Visualization displayed above\")"
   ]
  },
  {
   "cell_type": "code",
   "execution_count": 16,
   "id": "1a0871d1-698e-4627-8e0f-62dc59bb2589",
   "metadata": {},
   "outputs": [
    {
     "name": "stdout",
     "output_type": "stream",
     "text": [
      "\n",
      "============================================================\n",
      "RESULTS SUMMARY\n",
      "============================================================\n",
      "Top 5 Certainty Restoration Layers:\n",
      "  1. Layer 22: 1.000\n",
      "  2. Layer 24: 1.000\n",
      "  3. Layer 23: 1.000\n",
      "  4. Layer 39: 1.000\n",
      "  5. Layer 21: 1.000\n",
      "\n",
      "Top 5 Uncertainty Transfer Layers:\n",
      "  1. Layer 39: 0.909\n",
      "  2. Layer 23: 0.909\n",
      "  3. Layer 22: 0.909\n",
      "  4. Layer 26: 0.818\n",
      "  5. Layer 31: 0.818\n",
      "\n",
      "Overall Performance:\n",
      "  Mean certainty restoration: 0.559\n",
      "  Mean uncertainty transfer: 0.455\n",
      "  Circuit strength ratio: 1.23x\n",
      "\n",
      "High-Impact Layer Analysis:\n",
      "  Certainty layers (>0.5): 26\n",
      "  Uncertainty layers (>0.5): 20\n",
      "  Overlapping layers: 20\n",
      "  Shared layers: [20, 21, 22, 23, 24, 25, 26, 27, 28, 29, 30, 31, 32, 33, 34, 35, 36, 37, 38, 39]\n",
      "\n",
      "Results saved to: circuit_discovery_results.png\n",
      "Experiment complete!\n"
     ]
    }
   ],
   "source": [
    "# Print summary\n",
    "print(\"\\n\" + \"=\"*60)\n",
    "print(\"RESULTS SUMMARY\")\n",
    "print(\"=\"*60)\n",
    "\n",
    "top_2a = results_2a.topk(5)\n",
    "top_2b = results_2b.topk(5)\n",
    "\n",
    "print(\"Top 5 Certainty Restoration Layers:\")\n",
    "for i, (score, layer) in enumerate(zip(top_2a.values, top_2a.indices)):\n",
    "    print(f\"  {i+1}. Layer {layer.item():2d}: {score.item():.3f}\")\n",
    "\n",
    "print(\"\\nTop 5 Uncertainty Transfer Layers:\")\n",
    "for i, (score, layer) in enumerate(zip(top_2b.values, top_2b.indices)):\n",
    "    print(f\"  {i+1}. Layer {layer.item():2d}: {score.item():.3f}\")\n",
    "\n",
    "print(f\"\\nOverall Performance:\")\n",
    "print(f\"  Mean certainty restoration: {results_2a.mean().item():.3f}\")\n",
    "print(f\"  Mean uncertainty transfer: {results_2b.mean().item():.3f}\")\n",
    "print(f\"  Circuit strength ratio: {results_2a.mean().item() / results_2b.mean().item():.2f}x\")\n",
    "\n",
    "# Find high-impact layers\n",
    "high_2a = (results_2a > 0.5).nonzero(as_tuple=True)[0]\n",
    "high_2b = (results_2b > 0.5).nonzero(as_tuple=True)[0]\n",
    "overlap = set(high_2a.tolist()) & set(high_2b.tolist())\n",
    "\n",
    "print(f\"\\nHigh-Impact Layer Analysis:\")\n",
    "print(f\"  Certainty layers (>0.5): {len(high_2a)}\")\n",
    "print(f\"  Uncertainty layers (>0.5): {len(high_2b)}\")\n",
    "print(f\"  Overlapping layers: {len(overlap)}\")\n",
    "\n",
    "if overlap:\n",
    "    print(f\"  Shared layers: {sorted(list(overlap))}\")\n",
    "\n",
    "print(f\"\\nResults saved to: circuit_discovery_results.png\")\n",
    "print(\"Experiment complete!\")"
   ]
  },
  {
   "cell_type": "code",
   "execution_count": null,
   "id": "9e8df3f2-2d3d-4021-8920-1399acddcd31",
   "metadata": {},
   "outputs": [],
   "source": []
  }
 ],
 "metadata": {
  "kernelspec": {
   "display_name": "Python 3 (ipykernel)",
   "language": "python",
   "name": "python3"
  },
  "language_info": {
   "codemirror_mode": {
    "name": "ipython",
    "version": 3
   },
   "file_extension": ".py",
   "mimetype": "text/x-python",
   "name": "python",
   "nbconvert_exporter": "python",
   "pygments_lexer": "ipython3",
   "version": "3.10.12"
  }
 },
 "nbformat": 4,
 "nbformat_minor": 5
}
