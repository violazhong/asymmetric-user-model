{
 "cells": [
  {
   "cell_type": "markdown",
   "id": "97fb8e43-04ad-44d1-830e-7a3b6398ae80",
   "metadata": {},
   "source": [
    "## Step 0. basic setup"
   ]
  },
  {
   "cell_type": "code",
   "execution_count": 2,
   "id": "a6d12b47-a588-448a-89f6-b3d55ac4c6a1",
   "metadata": {},
   "outputs": [
    {
     "name": "stdout",
     "output_type": "stream",
     "text": [
      "🔧 Environment Check:\n",
      "PyTorch: 2.8.0.dev20250319+cu128\n",
      "TransformerLens: <module 'transformer_lens' from '/usr/local/lib/python3.11/dist-packages/transformer_lens/__init__.py'>\n",
      "Transformers: 4.56.0\n",
      "CUDA available: True\n",
      "GPU: NVIDIA RTX A6000\n",
      "GPU Memory: 51.0GB\n",
      "HF Token loaded: ✅\n"
     ]
    }
   ],
   "source": [
    "# Test basic environment\n",
    "import torch\n",
    "import transformer_lens\n",
    "from transformers import __version__ as transformers_version\n",
    "import os\n",
    "\n",
    "print(\"🔧 Environment Check:\")\n",
    "print(f\"PyTorch: {torch.__version__}\")\n",
    "print(f\"TransformerLens: {transformer_lens}\")\n",
    "print(f\"Transformers: {transformers_version}\")\n",
    "print(f\"CUDA available: {torch.cuda.is_available()}\")\n",
    "print(f\"GPU: {torch.cuda.get_device_name()}\")\n",
    "print(f\"GPU Memory: {torch.cuda.get_device_properties(0).total_memory / 1e9:.1f}GB\")\n",
    "\n",
    "# Check HF token\n",
    "hf_token = os.getenv('HF_TOKEN')\n",
    "print(f\"HF Token loaded: {'✅' if hf_token else '❌'}\")"
   ]
  },
  {
   "cell_type": "code",
   "execution_count": 3,
   "id": "66f382f7-cbf2-4898-bad3-865802e6f450",
   "metadata": {},
   "outputs": [
    {
     "name": "stdout",
     "output_type": "stream",
     "text": [
      "🚀 Loading Llama-2-13B-chat...\n",
      "This will download ~26GB - grab some coffee! ☕\n"
     ]
    },
    {
     "data": {
      "application/vnd.jupyter.widget-view+json": {
       "model_id": "7d2e60b15a3d47448fa7059afab6245f",
       "version_major": 2,
       "version_minor": 0
      },
      "text/plain": [
       "config.json:   0%|          | 0.00/587 [00:00<?, ?B/s]"
      ]
     },
     "metadata": {},
     "output_type": "display_data"
    },
    {
     "name": "stderr",
     "output_type": "stream",
     "text": [
      "`torch_dtype` is deprecated! Use `dtype` instead!\n"
     ]
    },
    {
     "data": {
      "application/vnd.jupyter.widget-view+json": {
       "model_id": "38d1fa9877fb452ab00b2f21d3ef60ee",
       "version_major": 2,
       "version_minor": 0
      },
      "text/plain": [
       "model.safetensors.index.json:   0%|          | 0.00/33.4k [00:00<?, ?B/s]"
      ]
     },
     "metadata": {},
     "output_type": "display_data"
    },
    {
     "data": {
      "application/vnd.jupyter.widget-view+json": {
       "model_id": "232ec37a80244c63b31dfed31fb45d20",
       "version_major": 2,
       "version_minor": 0
      },
      "text/plain": [
       "Fetching 3 files:   0%|          | 0/3 [00:00<?, ?it/s]"
      ]
     },
     "metadata": {},
     "output_type": "display_data"
    },
    {
     "data": {
      "application/vnd.jupyter.widget-view+json": {
       "model_id": "444e2caf4bee48679b5cb8630a7b164f",
       "version_major": 2,
       "version_minor": 0
      },
      "text/plain": [
       "model-00003-of-00003.safetensors:   0%|          | 0.00/6.18G [00:00<?, ?B/s]"
      ]
     },
     "metadata": {},
     "output_type": "display_data"
    },
    {
     "data": {
      "application/vnd.jupyter.widget-view+json": {
       "model_id": "076ec276688f4cb5800c29bde2170acc",
       "version_major": 2,
       "version_minor": 0
      },
      "text/plain": [
       "model-00002-of-00003.safetensors:   0%|          | 0.00/9.90G [00:00<?, ?B/s]"
      ]
     },
     "metadata": {},
     "output_type": "display_data"
    },
    {
     "data": {
      "application/vnd.jupyter.widget-view+json": {
       "model_id": "f6dda075c59644788069c65fdf3a2c8d",
       "version_major": 2,
       "version_minor": 0
      },
      "text/plain": [
       "model-00001-of-00003.safetensors:   0%|          | 0.00/9.95G [00:00<?, ?B/s]"
      ]
     },
     "metadata": {},
     "output_type": "display_data"
    },
    {
     "data": {
      "application/vnd.jupyter.widget-view+json": {
       "model_id": "2d2be20a1d5f41a18b0bd6c3437673ed",
       "version_major": 2,
       "version_minor": 0
      },
      "text/plain": [
       "Loading checkpoint shards:   0%|          | 0/3 [00:00<?, ?it/s]"
      ]
     },
     "metadata": {},
     "output_type": "display_data"
    },
    {
     "data": {
      "application/vnd.jupyter.widget-view+json": {
       "model_id": "da6ae0f0e5324475afd01894d65abd3d",
       "version_major": 2,
       "version_minor": 0
      },
      "text/plain": [
       "generation_config.json:   0%|          | 0.00/188 [00:00<?, ?B/s]"
      ]
     },
     "metadata": {},
     "output_type": "display_data"
    },
    {
     "data": {
      "application/vnd.jupyter.widget-view+json": {
       "model_id": "650b2ac47e524d42b25271628781a38e",
       "version_major": 2,
       "version_minor": 0
      },
      "text/plain": [
       "tokenizer_config.json:   0%|          | 0.00/1.62k [00:00<?, ?B/s]"
      ]
     },
     "metadata": {},
     "output_type": "display_data"
    },
    {
     "data": {
      "application/vnd.jupyter.widget-view+json": {
       "model_id": "9be84fb81a074d3691b45d987c90a332",
       "version_major": 2,
       "version_minor": 0
      },
      "text/plain": [
       "tokenizer.model:   0%|          | 0.00/500k [00:00<?, ?B/s]"
      ]
     },
     "metadata": {},
     "output_type": "display_data"
    },
    {
     "data": {
      "application/vnd.jupyter.widget-view+json": {
       "model_id": "02b29b091a084814bcf142ea6527c13c",
       "version_major": 2,
       "version_minor": 0
      },
      "text/plain": [
       "tokenizer.json:   0%|          | 0.00/1.84M [00:00<?, ?B/s]"
      ]
     },
     "metadata": {},
     "output_type": "display_data"
    },
    {
     "data": {
      "application/vnd.jupyter.widget-view+json": {
       "model_id": "6b9d187b358a4163b5b9fd60fa26d410",
       "version_major": 2,
       "version_minor": 0
      },
      "text/plain": [
       "special_tokens_map.json:   0%|          | 0.00/414 [00:00<?, ?B/s]"
      ]
     },
     "metadata": {},
     "output_type": "display_data"
    },
    {
     "name": "stdout",
     "output_type": "stream",
     "text": [
      "Loaded pretrained model meta-llama/Llama-2-13b-chat-hf into HookedTransformer\n",
      "GPU Memory: 26.8GB\n",
      "✅ Llama-2-13B loaded successfully!\n",
      "Model layers: 40\n",
      "Hidden size: 5120\n"
     ]
    }
   ],
   "source": [
    "from transformer_lens import HookedTransformer\n",
    "from transformers import LlamaTokenizer\n",
    "import torch\n",
    "import gc\n",
    "\n",
    "print(\"🚀 Loading Llama-2-13B-chat...\")\n",
    "print(\"This will download ~26GB - grab some coffee! ☕\")\n",
    "\n",
    "# Memory management\n",
    "def clear_memory():\n",
    "    gc.collect()\n",
    "    torch.cuda.empty_cache()\n",
    "    memory_gb = torch.cuda.memory_allocated() / 1e9\n",
    "    print(f\"GPU Memory: {memory_gb:.1f}GB\")\n",
    "\n",
    "# Load model with optimizations\n",
    "model = HookedTransformer.from_pretrained(\n",
    "    \"meta-llama/Llama-2-13b-chat-hf\",\n",
    "    torch_dtype=torch.bfloat16,  # Save memory\n",
    "    device_map=\"auto\",           # Auto GPU placement\n",
    "    fold_ln=False,               # Keep for interpretability\n",
    "    center_writing_weights=False, # Keep original weights\n",
    ")\n",
    "\n",
    "# Load tokenizer\n",
    "tokenizer = LlamaTokenizer.from_pretrained(\"meta-llama/Llama-2-13b-chat-hf\")\n",
    "if tokenizer.pad_token is None:\n",
    "    tokenizer.pad_token = tokenizer.eos_token\n",
    "\n",
    "clear_memory()\n",
    "print(\"✅ Llama-2-13B loaded successfully!\")\n",
    "print(f\"Model layers: {model.cfg.n_layers}\")\n",
    "print(f\"Hidden size: {model.cfg.d_model}\")"
   ]
  },
  {
   "cell_type": "code",
   "execution_count": 6,
   "id": "966bc34a-f72c-4312-ab8c-87982c89f876",
   "metadata": {},
   "outputs": [],
   "source": [
    "import pandas as pd\n",
    "import torch\n",
    "from transformers import AutoTokenizer, AutoModelForCausalLM\n",
    "from tqdm import tqdm\n",
    "import matplotlib.pyplot as plt\n",
    "import seaborn as sns\n",
    "import numpy as np\n",
    "import google.generativeai as genai\n",
    "import time\n",
    "import os"
   ]
  },
  {
   "cell_type": "code",
   "execution_count": 7,
   "id": "df3b36a2-4dd0-45de-941f-1b73ce87a0ab",
   "metadata": {},
   "outputs": [],
   "source": [
    "# refined_prompts.csv is generated by Claude\n",
    "# for each topic, there are 2 prompts with the same token length,\n",
    "# each prompt stands for a epistemic status: certain or uncertain\n",
    "df = pd.read_csv('data/refined_prompts.csv')"
   ]
  },
  {
   "cell_type": "code",
   "execution_count": 9,
   "id": "f0775aea-f8a3-43f6-a1b6-bc91247e9110",
   "metadata": {},
   "outputs": [
    {
     "data": {
      "text/html": [
       "<div>\n",
       "<style scoped>\n",
       "    .dataframe tbody tr th:only-of-type {\n",
       "        vertical-align: middle;\n",
       "    }\n",
       "\n",
       "    .dataframe tbody tr th {\n",
       "        vertical-align: top;\n",
       "    }\n",
       "\n",
       "    .dataframe thead th {\n",
       "        text-align: right;\n",
       "    }\n",
       "</style>\n",
       "<table border=\"1\" class=\"dataframe\">\n",
       "  <thead>\n",
       "    <tr style=\"text-align: right;\">\n",
       "      <th></th>\n",
       "      <th>topic</th>\n",
       "      <th>epistemic_status</th>\n",
       "      <th>prompt</th>\n",
       "    </tr>\n",
       "  </thead>\n",
       "  <tbody>\n",
       "    <tr>\n",
       "      <th>0</th>\n",
       "      <td>climate_change</td>\n",
       "      <td>certain</td>\n",
       "      <td>Climate change is definitely caused by human a...</td>\n",
       "    </tr>\n",
       "    <tr>\n",
       "      <th>1</th>\n",
       "      <td>climate_change</td>\n",
       "      <td>uncertain</td>\n",
       "      <td>Climate change is probably caused by human act...</td>\n",
       "    </tr>\n",
       "    <tr>\n",
       "      <th>2</th>\n",
       "      <td>python_learning</td>\n",
       "      <td>certain</td>\n",
       "      <td>Python is definitely the best programming lang...</td>\n",
       "    </tr>\n",
       "    <tr>\n",
       "      <th>3</th>\n",
       "      <td>python_learning</td>\n",
       "      <td>uncertain</td>\n",
       "      <td>Python is probably the best programming langua...</td>\n",
       "    </tr>\n",
       "    <tr>\n",
       "      <th>4</th>\n",
       "      <td>exercise_health</td>\n",
       "      <td>certain</td>\n",
       "      <td>Regular exercise definitely prevents heart dis...</td>\n",
       "    </tr>\n",
       "    <tr>\n",
       "      <th>...</th>\n",
       "      <td>...</td>\n",
       "      <td>...</td>\n",
       "      <td>...</td>\n",
       "    </tr>\n",
       "    <tr>\n",
       "      <th>75</th>\n",
       "      <td>mars_colonization</td>\n",
       "      <td>uncertain</td>\n",
       "      <td>Private companies will probably establish perm...</td>\n",
       "    </tr>\n",
       "    <tr>\n",
       "      <th>76</th>\n",
       "      <td>artificial_intelligence</td>\n",
       "      <td>certain</td>\n",
       "      <td>Artificial general intelligence will definitel...</td>\n",
       "    </tr>\n",
       "    <tr>\n",
       "      <th>77</th>\n",
       "      <td>artificial_intelligence</td>\n",
       "      <td>uncertain</td>\n",
       "      <td>Artificial general intelligence will probably ...</td>\n",
       "    </tr>\n",
       "    <tr>\n",
       "      <th>78</th>\n",
       "      <td>job_automation</td>\n",
       "      <td>certain</td>\n",
       "      <td>Artificial intelligence will definitely elimin...</td>\n",
       "    </tr>\n",
       "    <tr>\n",
       "      <th>79</th>\n",
       "      <td>job_automation</td>\n",
       "      <td>uncertain</td>\n",
       "      <td>Artificial intelligence will probably eliminat...</td>\n",
       "    </tr>\n",
       "  </tbody>\n",
       "</table>\n",
       "<p>80 rows × 3 columns</p>\n",
       "</div>"
      ],
      "text/plain": [
       "                      topic epistemic_status  \\\n",
       "0            climate_change          certain   \n",
       "1            climate_change        uncertain   \n",
       "2           python_learning          certain   \n",
       "3           python_learning        uncertain   \n",
       "4           exercise_health          certain   \n",
       "..                      ...              ...   \n",
       "75        mars_colonization        uncertain   \n",
       "76  artificial_intelligence          certain   \n",
       "77  artificial_intelligence        uncertain   \n",
       "78           job_automation          certain   \n",
       "79           job_automation        uncertain   \n",
       "\n",
       "                                               prompt  \n",
       "0   Climate change is definitely caused by human a...  \n",
       "1   Climate change is probably caused by human act...  \n",
       "2   Python is definitely the best programming lang...  \n",
       "3   Python is probably the best programming langua...  \n",
       "4   Regular exercise definitely prevents heart dis...  \n",
       "..                                                ...  \n",
       "75  Private companies will probably establish perm...  \n",
       "76  Artificial general intelligence will definitel...  \n",
       "77  Artificial general intelligence will probably ...  \n",
       "78  Artificial intelligence will definitely elimin...  \n",
       "79  Artificial intelligence will probably eliminat...  \n",
       "\n",
       "[80 rows x 3 columns]"
      ]
     },
     "execution_count": 9,
     "metadata": {},
     "output_type": "execute_result"
    }
   ],
   "source": [
    "df"
   ]
  },
  {
   "cell_type": "markdown",
   "id": "1a8f9751-25c6-4d0f-b0d0-5e33151a2de2",
   "metadata": {},
   "source": [
    "#### Before experimet, double-check each pair of prompts has the same length of tokens"
   ]
  },
  {
   "cell_type": "code",
   "execution_count": null,
   "id": "aab7dea2-e969-4722-9ae9-58748ae46498",
   "metadata": {},
   "outputs": [],
   "source": [
    "# Group by topic to get pairs\n",
    "topics = df['topic'].unique()\n",
    "mismatches = []\n",
    "\n",
    "for topic in topics:\n",
    "    topic_data = df[df['topic'] == topic]\n",
    "    certain_prompt = topic_data[topic_data['epistemic_status'] == 'certain']['prompt'].iloc[0]\n",
    "    uncertain_prompt = topic_data[topic_data['epistemic_status'] == 'uncertain']['prompt'].iloc[0]\n",
    "    \n",
    "    certain_tokens = len(tokenizer.encode(certain_prompt))\n",
    "    uncertain_tokens = len(tokenizer.encode(uncertain_prompt))\n",
    "    \n",
    "    if certain_tokens != uncertain_tokens:\n",
    "        mismatches.append({\n",
    "            'topic': topic,\n",
    "            'certain_tokens': certain_tokens,\n",
    "            'uncertain_tokens': uncertain_tokens,\n",
    "            'difference': abs(certain_tokens - uncertain_tokens)\n",
    "        })\n",
    "        print(f\"❌ {topic}: {certain_tokens} vs {uncertain_tokens}\")\n",
    "    else:\n",
    "        print(f\"✅ {topic}: {certain_tokens} tokens\")\n",
    "\n",
    "if mismatches:\n",
    "    print(f\"\\n⚠️  Found {len(mismatches)} mismatched pairs!\")\n",
    "else:\n",
    "    print(f\"\\n🎉 All {len(topics)} pairs are token-matched!\")"
   ]
  },
  {
   "cell_type": "markdown",
   "id": "89a581cb-6bb4-4a71-ba90-69433aafd77b",
   "metadata": {},
   "source": [
    "## Step 1. Generate response from Llama-2-13B "
   ]
  },
  {
   "cell_type": "code",
   "execution_count": 24,
   "id": "f1bb70d1-b7a4-4fdc-ad43-caab7ee7ef06",
   "metadata": {},
   "outputs": [],
   "source": [
    "def generate_response_from_chat_model(prompt, temperature=0.7):\n",
    "    \"\"\"Generate text with Llama-2-13B\"\"\"\n",
    "    \n",
    "    # Tokenize input\n",
    "    tokens = tokenizer.encode(prompt, return_tensors=\"pt\").to(model.cfg.device)\n",
    "    print(f\"Input tokens shape: {tokens.shape}\")\n",
    "    \n",
    "    # Generate with the model\n",
    "    generated_tokens = model.generate(tokens, \n",
    "       max_new_tokens=50,\n",
    "       temperature=0.7,\n",
    "       do_sample=True)\n",
    "    \n",
    "    # Decode response\n",
    "    response = tokenizer.decode(generated_tokens[0], skip_special_tokens=True)\n",
    "    return response"
   ]
  },
  {
   "cell_type": "code",
   "execution_count": 25,
   "id": "cd71b448-1f4d-4619-9bde-62efa6a002e4",
   "metadata": {},
   "outputs": [
    {
     "name": "stderr",
     "output_type": "stream",
     "text": [
      "Generating responses:   0%|          | 0/80 [00:00<?, ?it/s]"
     ]
    },
    {
     "name": "stdout",
     "output_type": "stream",
     "text": [
      "Input tokens shape: torch.Size([1, 17])\n"
     ]
    },
    {
     "data": {
      "application/vnd.jupyter.widget-view+json": {
       "model_id": "370d058eaf4747bfa8f893c8cd83a4d4",
       "version_major": 2,
       "version_minor": 0
      },
      "text/plain": [
       "  0%|          | 0/50 [00:00<?, ?it/s]"
      ]
     },
     "metadata": {},
     "output_type": "display_data"
    },
    {
     "name": "stderr",
     "output_type": "stream",
     "text": [
      "Generating responses:   1%|▏         | 1/80 [00:04<05:42,  4.34s/it]"
     ]
    },
    {
     "name": "stdout",
     "output_type": "stream",
     "text": [
      "Input tokens shape: torch.Size([1, 17])\n"
     ]
    },
    {
     "data": {
      "application/vnd.jupyter.widget-view+json": {
       "model_id": "0ea2f9700d14476888654d56169e3ee6",
       "version_major": 2,
       "version_minor": 0
      },
      "text/plain": [
       "  0%|          | 0/50 [00:00<?, ?it/s]"
      ]
     },
     "metadata": {},
     "output_type": "display_data"
    },
    {
     "name": "stderr",
     "output_type": "stream",
     "text": [
      "Generating responses:   2%|▎         | 2/80 [00:08<05:37,  4.33s/it]"
     ]
    },
    {
     "name": "stdout",
     "output_type": "stream",
     "text": [
      "Input tokens shape: torch.Size([1, 18])\n"
     ]
    },
    {
     "data": {
      "application/vnd.jupyter.widget-view+json": {
       "model_id": "6e9cc0443b0f40cf988d18ce63e3930c",
       "version_major": 2,
       "version_minor": 0
      },
      "text/plain": [
       "  0%|          | 0/50 [00:00<?, ?it/s]"
      ]
     },
     "metadata": {},
     "output_type": "display_data"
    },
    {
     "name": "stderr",
     "output_type": "stream",
     "text": [
      "Generating responses:   4%|▍         | 3/80 [00:12<05:33,  4.33s/it]"
     ]
    },
    {
     "name": "stdout",
     "output_type": "stream",
     "text": [
      "Input tokens shape: torch.Size([1, 18])\n"
     ]
    },
    {
     "data": {
      "application/vnd.jupyter.widget-view+json": {
       "model_id": "75e5d8ab83d447c5bcf218ed1ecd069a",
       "version_major": 2,
       "version_minor": 0
      },
      "text/plain": [
       "  0%|          | 0/50 [00:00<?, ?it/s]"
      ]
     },
     "metadata": {},
     "output_type": "display_data"
    },
    {
     "name": "stderr",
     "output_type": "stream",
     "text": [
      "Generating responses:   5%|▌         | 4/80 [00:17<05:29,  4.34s/it]"
     ]
    },
    {
     "name": "stdout",
     "output_type": "stream",
     "text": [
      "Input tokens shape: torch.Size([1, 17])\n"
     ]
    },
    {
     "data": {
      "application/vnd.jupyter.widget-view+json": {
       "model_id": "87995ca81a2747139211355380a49f96",
       "version_major": 2,
       "version_minor": 0
      },
      "text/plain": [
       "  0%|          | 0/50 [00:00<?, ?it/s]"
      ]
     },
     "metadata": {},
     "output_type": "display_data"
    },
    {
     "name": "stderr",
     "output_type": "stream",
     "text": [
      "Generating responses:   6%|▋         | 5/80 [00:21<05:25,  4.34s/it]"
     ]
    },
    {
     "name": "stdout",
     "output_type": "stream",
     "text": [
      "Input tokens shape: torch.Size([1, 17])\n"
     ]
    },
    {
     "data": {
      "application/vnd.jupyter.widget-view+json": {
       "model_id": "93e449961c8c429c8baf5e48c04dc8ab",
       "version_major": 2,
       "version_minor": 0
      },
      "text/plain": [
       "  0%|          | 0/50 [00:00<?, ?it/s]"
      ]
     },
     "metadata": {},
     "output_type": "display_data"
    },
    {
     "name": "stderr",
     "output_type": "stream",
     "text": [
      "Generating responses:   8%|▊         | 6/80 [00:26<05:21,  4.35s/it]"
     ]
    },
    {
     "name": "stdout",
     "output_type": "stream",
     "text": [
      "Input tokens shape: torch.Size([1, 20])\n"
     ]
    },
    {
     "data": {
      "application/vnd.jupyter.widget-view+json": {
       "model_id": "66c48d7b8d194b4db5d58ec122aa3de0",
       "version_major": 2,
       "version_minor": 0
      },
      "text/plain": [
       "  0%|          | 0/50 [00:00<?, ?it/s]"
      ]
     },
     "metadata": {},
     "output_type": "display_data"
    },
    {
     "name": "stderr",
     "output_type": "stream",
     "text": [
      "Generating responses:   9%|▉         | 7/80 [00:30<05:17,  4.35s/it]"
     ]
    },
    {
     "name": "stdout",
     "output_type": "stream",
     "text": [
      "Input tokens shape: torch.Size([1, 20])\n"
     ]
    },
    {
     "data": {
      "application/vnd.jupyter.widget-view+json": {
       "model_id": "9f34db4c415c47a2840678920a3f4205",
       "version_major": 2,
       "version_minor": 0
      },
      "text/plain": [
       "  0%|          | 0/50 [00:00<?, ?it/s]"
      ]
     },
     "metadata": {},
     "output_type": "display_data"
    },
    {
     "name": "stderr",
     "output_type": "stream",
     "text": [
      "Generating responses:  10%|█         | 8/80 [00:34<05:13,  4.35s/it]"
     ]
    },
    {
     "name": "stdout",
     "output_type": "stream",
     "text": [
      "Input tokens shape: torch.Size([1, 19])\n"
     ]
    },
    {
     "data": {
      "application/vnd.jupyter.widget-view+json": {
       "model_id": "c3b166ec1fd547d88f790010aa8756e2",
       "version_major": 2,
       "version_minor": 0
      },
      "text/plain": [
       "  0%|          | 0/50 [00:00<?, ?it/s]"
      ]
     },
     "metadata": {},
     "output_type": "display_data"
    },
    {
     "name": "stderr",
     "output_type": "stream",
     "text": [
      "Generating responses:  11%|█▏        | 9/80 [00:39<05:09,  4.36s/it]"
     ]
    },
    {
     "name": "stdout",
     "output_type": "stream",
     "text": [
      "Input tokens shape: torch.Size([1, 19])\n"
     ]
    },
    {
     "data": {
      "application/vnd.jupyter.widget-view+json": {
       "model_id": "f5b1a4bfda04475985e40e8f14b18cca",
       "version_major": 2,
       "version_minor": 0
      },
      "text/plain": [
       "  0%|          | 0/50 [00:00<?, ?it/s]"
      ]
     },
     "metadata": {},
     "output_type": "display_data"
    },
    {
     "name": "stderr",
     "output_type": "stream",
     "text": [
      "Generating responses:  12%|█▎        | 10/80 [00:43<05:05,  4.36s/it]"
     ]
    },
    {
     "name": "stdout",
     "output_type": "stream",
     "text": [
      "Input tokens shape: torch.Size([1, 19])\n"
     ]
    },
    {
     "data": {
      "application/vnd.jupyter.widget-view+json": {
       "model_id": "a35bbaf98b0c471cbf2959cf18c67df7",
       "version_major": 2,
       "version_minor": 0
      },
      "text/plain": [
       "  0%|          | 0/50 [00:00<?, ?it/s]"
      ]
     },
     "metadata": {},
     "output_type": "display_data"
    },
    {
     "name": "stderr",
     "output_type": "stream",
     "text": [
      "Generating responses:  14%|█▍        | 11/80 [00:47<05:01,  4.37s/it]"
     ]
    },
    {
     "name": "stdout",
     "output_type": "stream",
     "text": [
      "Input tokens shape: torch.Size([1, 19])\n"
     ]
    },
    {
     "data": {
      "application/vnd.jupyter.widget-view+json": {
       "model_id": "9e9d0ed725c7453bad3c5892139970b1",
       "version_major": 2,
       "version_minor": 0
      },
      "text/plain": [
       "  0%|          | 0/50 [00:00<?, ?it/s]"
      ]
     },
     "metadata": {},
     "output_type": "display_data"
    },
    {
     "name": "stderr",
     "output_type": "stream",
     "text": [
      "Generating responses:  15%|█▌        | 12/80 [00:52<04:57,  4.37s/it]"
     ]
    },
    {
     "name": "stdout",
     "output_type": "stream",
     "text": [
      "Input tokens shape: torch.Size([1, 22])\n"
     ]
    },
    {
     "data": {
      "application/vnd.jupyter.widget-view+json": {
       "model_id": "3e844b19bfba4a29bb5c0ea45f033e29",
       "version_major": 2,
       "version_minor": 0
      },
      "text/plain": [
       "  0%|          | 0/50 [00:00<?, ?it/s]"
      ]
     },
     "metadata": {},
     "output_type": "display_data"
    },
    {
     "name": "stderr",
     "output_type": "stream",
     "text": [
      "Generating responses:  16%|█▋        | 13/80 [00:56<04:53,  4.37s/it]"
     ]
    },
    {
     "name": "stdout",
     "output_type": "stream",
     "text": [
      "Input tokens shape: torch.Size([1, 22])\n"
     ]
    },
    {
     "data": {
      "application/vnd.jupyter.widget-view+json": {
       "model_id": "b382e6399fcd424bb1785d5ca66060ed",
       "version_major": 2,
       "version_minor": 0
      },
      "text/plain": [
       "  0%|          | 0/50 [00:00<?, ?it/s]"
      ]
     },
     "metadata": {},
     "output_type": "display_data"
    },
    {
     "name": "stderr",
     "output_type": "stream",
     "text": [
      "Generating responses:  18%|█▊        | 14/80 [01:01<04:48,  4.38s/it]"
     ]
    },
    {
     "name": "stdout",
     "output_type": "stream",
     "text": [
      "Input tokens shape: torch.Size([1, 19])\n"
     ]
    },
    {
     "data": {
      "application/vnd.jupyter.widget-view+json": {
       "model_id": "5cfdfcbc6c954be8843f1b5760f7ca0c",
       "version_major": 2,
       "version_minor": 0
      },
      "text/plain": [
       "  0%|          | 0/50 [00:00<?, ?it/s]"
      ]
     },
     "metadata": {},
     "output_type": "display_data"
    },
    {
     "name": "stderr",
     "output_type": "stream",
     "text": [
      "Generating responses:  19%|█▉        | 15/80 [01:05<04:44,  4.38s/it]"
     ]
    },
    {
     "name": "stdout",
     "output_type": "stream",
     "text": [
      "Input tokens shape: torch.Size([1, 19])\n"
     ]
    },
    {
     "data": {
      "application/vnd.jupyter.widget-view+json": {
       "model_id": "1bcdf7ac4fc542219753f1377676b818",
       "version_major": 2,
       "version_minor": 0
      },
      "text/plain": [
       "  0%|          | 0/50 [00:00<?, ?it/s]"
      ]
     },
     "metadata": {},
     "output_type": "display_data"
    },
    {
     "name": "stderr",
     "output_type": "stream",
     "text": [
      "Generating responses:  20%|██        | 16/80 [01:09<04:40,  4.38s/it]"
     ]
    },
    {
     "name": "stdout",
     "output_type": "stream",
     "text": [
      "Input tokens shape: torch.Size([1, 20])\n"
     ]
    },
    {
     "data": {
      "application/vnd.jupyter.widget-view+json": {
       "model_id": "fbb673480330495e8d85bb192806708e",
       "version_major": 2,
       "version_minor": 0
      },
      "text/plain": [
       "  0%|          | 0/50 [00:00<?, ?it/s]"
      ]
     },
     "metadata": {},
     "output_type": "display_data"
    },
    {
     "name": "stderr",
     "output_type": "stream",
     "text": [
      "Generating responses:  21%|██▏       | 17/80 [01:14<04:35,  4.38s/it]"
     ]
    },
    {
     "name": "stdout",
     "output_type": "stream",
     "text": [
      "Input tokens shape: torch.Size([1, 20])\n"
     ]
    },
    {
     "data": {
      "application/vnd.jupyter.widget-view+json": {
       "model_id": "a8795d57999b4237875990b09687d9ee",
       "version_major": 2,
       "version_minor": 0
      },
      "text/plain": [
       "  0%|          | 0/50 [00:00<?, ?it/s]"
      ]
     },
     "metadata": {},
     "output_type": "display_data"
    },
    {
     "name": "stderr",
     "output_type": "stream",
     "text": [
      "Generating responses:  22%|██▎       | 18/80 [01:18<04:31,  4.38s/it]"
     ]
    },
    {
     "name": "stdout",
     "output_type": "stream",
     "text": [
      "Input tokens shape: torch.Size([1, 26])\n"
     ]
    },
    {
     "data": {
      "application/vnd.jupyter.widget-view+json": {
       "model_id": "836f69b7c8024d0f91cf8f8175103d6b",
       "version_major": 2,
       "version_minor": 0
      },
      "text/plain": [
       "  0%|          | 0/50 [00:00<?, ?it/s]"
      ]
     },
     "metadata": {},
     "output_type": "display_data"
    },
    {
     "name": "stderr",
     "output_type": "stream",
     "text": [
      "Generating responses:  24%|██▍       | 19/80 [01:22<04:27,  4.39s/it]"
     ]
    },
    {
     "name": "stdout",
     "output_type": "stream",
     "text": [
      "Input tokens shape: torch.Size([1, 26])\n"
     ]
    },
    {
     "data": {
      "application/vnd.jupyter.widget-view+json": {
       "model_id": "dde7dbe5711e4c7fbbca602f40f74ccd",
       "version_major": 2,
       "version_minor": 0
      },
      "text/plain": [
       "  0%|          | 0/50 [00:00<?, ?it/s]"
      ]
     },
     "metadata": {},
     "output_type": "display_data"
    },
    {
     "name": "stderr",
     "output_type": "stream",
     "text": [
      "Generating responses:  25%|██▌       | 20/80 [01:27<04:23,  4.39s/it]"
     ]
    },
    {
     "name": "stdout",
     "output_type": "stream",
     "text": [
      "Input tokens shape: torch.Size([1, 19])\n"
     ]
    },
    {
     "data": {
      "application/vnd.jupyter.widget-view+json": {
       "model_id": "38f5b438b245401dab23fdfc633e818e",
       "version_major": 2,
       "version_minor": 0
      },
      "text/plain": [
       "  0%|          | 0/50 [00:00<?, ?it/s]"
      ]
     },
     "metadata": {},
     "output_type": "display_data"
    },
    {
     "name": "stderr",
     "output_type": "stream",
     "text": [
      "Generating responses:  26%|██▋       | 21/80 [01:31<04:19,  4.39s/it]"
     ]
    },
    {
     "name": "stdout",
     "output_type": "stream",
     "text": [
      "Input tokens shape: torch.Size([1, 19])\n"
     ]
    },
    {
     "data": {
      "application/vnd.jupyter.widget-view+json": {
       "model_id": "4077b566eefa4bcc893ae426dd97faec",
       "version_major": 2,
       "version_minor": 0
      },
      "text/plain": [
       "  0%|          | 0/50 [00:00<?, ?it/s]"
      ]
     },
     "metadata": {},
     "output_type": "display_data"
    },
    {
     "name": "stderr",
     "output_type": "stream",
     "text": [
      "Generating responses:  28%|██▊       | 22/80 [01:36<04:14,  4.40s/it]"
     ]
    },
    {
     "name": "stdout",
     "output_type": "stream",
     "text": [
      "Input tokens shape: torch.Size([1, 20])\n"
     ]
    },
    {
     "data": {
      "application/vnd.jupyter.widget-view+json": {
       "model_id": "0f4164e420794e33ba28e4e8d3257a62",
       "version_major": 2,
       "version_minor": 0
      },
      "text/plain": [
       "  0%|          | 0/50 [00:00<?, ?it/s]"
      ]
     },
     "metadata": {},
     "output_type": "display_data"
    },
    {
     "name": "stderr",
     "output_type": "stream",
     "text": [
      "Generating responses:  29%|██▉       | 23/80 [01:40<04:10,  4.40s/it]"
     ]
    },
    {
     "name": "stdout",
     "output_type": "stream",
     "text": [
      "Input tokens shape: torch.Size([1, 20])\n"
     ]
    },
    {
     "data": {
      "application/vnd.jupyter.widget-view+json": {
       "model_id": "334cb7c70eb94a2c8ce2c9d9465673e1",
       "version_major": 2,
       "version_minor": 0
      },
      "text/plain": [
       "  0%|          | 0/50 [00:00<?, ?it/s]"
      ]
     },
     "metadata": {},
     "output_type": "display_data"
    },
    {
     "name": "stderr",
     "output_type": "stream",
     "text": [
      "Generating responses:  30%|███       | 24/80 [01:44<04:06,  4.40s/it]"
     ]
    },
    {
     "name": "stdout",
     "output_type": "stream",
     "text": [
      "Input tokens shape: torch.Size([1, 19])\n"
     ]
    },
    {
     "data": {
      "application/vnd.jupyter.widget-view+json": {
       "model_id": "2ec6d2baefe54bfea90aec497dc49c4c",
       "version_major": 2,
       "version_minor": 0
      },
      "text/plain": [
       "  0%|          | 0/50 [00:00<?, ?it/s]"
      ]
     },
     "metadata": {},
     "output_type": "display_data"
    },
    {
     "name": "stderr",
     "output_type": "stream",
     "text": [
      "Generating responses:  31%|███▏      | 25/80 [01:49<04:01,  4.40s/it]"
     ]
    },
    {
     "name": "stdout",
     "output_type": "stream",
     "text": [
      "Input tokens shape: torch.Size([1, 19])\n"
     ]
    },
    {
     "data": {
      "application/vnd.jupyter.widget-view+json": {
       "model_id": "2ab53743180e4b7eab90d6fd707bfde4",
       "version_major": 2,
       "version_minor": 0
      },
      "text/plain": [
       "  0%|          | 0/50 [00:00<?, ?it/s]"
      ]
     },
     "metadata": {},
     "output_type": "display_data"
    },
    {
     "name": "stderr",
     "output_type": "stream",
     "text": [
      "Generating responses:  32%|███▎      | 26/80 [01:53<03:57,  4.40s/it]"
     ]
    },
    {
     "name": "stdout",
     "output_type": "stream",
     "text": [
      "Input tokens shape: torch.Size([1, 21])\n"
     ]
    },
    {
     "data": {
      "application/vnd.jupyter.widget-view+json": {
       "model_id": "d6e81b3e903249029446cd0124427fab",
       "version_major": 2,
       "version_minor": 0
      },
      "text/plain": [
       "  0%|          | 0/50 [00:00<?, ?it/s]"
      ]
     },
     "metadata": {},
     "output_type": "display_data"
    },
    {
     "name": "stderr",
     "output_type": "stream",
     "text": [
      "Generating responses:  34%|███▍      | 27/80 [01:58<03:53,  4.40s/it]"
     ]
    },
    {
     "name": "stdout",
     "output_type": "stream",
     "text": [
      "Input tokens shape: torch.Size([1, 21])\n"
     ]
    },
    {
     "data": {
      "application/vnd.jupyter.widget-view+json": {
       "model_id": "df9d0fa49fda4a4d8e99d52c27f17e50",
       "version_major": 2,
       "version_minor": 0
      },
      "text/plain": [
       "  0%|          | 0/50 [00:00<?, ?it/s]"
      ]
     },
     "metadata": {},
     "output_type": "display_data"
    },
    {
     "name": "stderr",
     "output_type": "stream",
     "text": [
      "Generating responses:  35%|███▌      | 28/80 [02:02<03:48,  4.40s/it]"
     ]
    },
    {
     "name": "stdout",
     "output_type": "stream",
     "text": [
      "Input tokens shape: torch.Size([1, 18])\n"
     ]
    },
    {
     "data": {
      "application/vnd.jupyter.widget-view+json": {
       "model_id": "6a3ebb8094e4412cae49a6d097b02049",
       "version_major": 2,
       "version_minor": 0
      },
      "text/plain": [
       "  0%|          | 0/50 [00:00<?, ?it/s]"
      ]
     },
     "metadata": {},
     "output_type": "display_data"
    },
    {
     "name": "stderr",
     "output_type": "stream",
     "text": [
      "Generating responses:  36%|███▋      | 29/80 [02:06<03:44,  4.40s/it]"
     ]
    },
    {
     "name": "stdout",
     "output_type": "stream",
     "text": [
      "Input tokens shape: torch.Size([1, 18])\n"
     ]
    },
    {
     "data": {
      "application/vnd.jupyter.widget-view+json": {
       "model_id": "2c42f712364e48dd98e2b773b66f42ae",
       "version_major": 2,
       "version_minor": 0
      },
      "text/plain": [
       "  0%|          | 0/50 [00:00<?, ?it/s]"
      ]
     },
     "metadata": {},
     "output_type": "display_data"
    },
    {
     "name": "stderr",
     "output_type": "stream",
     "text": [
      "Generating responses:  38%|███▊      | 30/80 [02:11<03:40,  4.40s/it]"
     ]
    },
    {
     "name": "stdout",
     "output_type": "stream",
     "text": [
      "Input tokens shape: torch.Size([1, 23])\n"
     ]
    },
    {
     "data": {
      "application/vnd.jupyter.widget-view+json": {
       "model_id": "02d97f900d1f4cb4958350cf9402784f",
       "version_major": 2,
       "version_minor": 0
      },
      "text/plain": [
       "  0%|          | 0/50 [00:00<?, ?it/s]"
      ]
     },
     "metadata": {},
     "output_type": "display_data"
    },
    {
     "name": "stderr",
     "output_type": "stream",
     "text": [
      "Generating responses:  39%|███▉      | 31/80 [02:15<03:35,  4.40s/it]"
     ]
    },
    {
     "name": "stdout",
     "output_type": "stream",
     "text": [
      "Input tokens shape: torch.Size([1, 23])\n"
     ]
    },
    {
     "data": {
      "application/vnd.jupyter.widget-view+json": {
       "model_id": "2767d86524564f2e887d27aa0d64bc41",
       "version_major": 2,
       "version_minor": 0
      },
      "text/plain": [
       "  0%|          | 0/50 [00:00<?, ?it/s]"
      ]
     },
     "metadata": {},
     "output_type": "display_data"
    },
    {
     "name": "stderr",
     "output_type": "stream",
     "text": [
      "Generating responses:  40%|████      | 32/80 [02:20<03:31,  4.40s/it]"
     ]
    },
    {
     "name": "stdout",
     "output_type": "stream",
     "text": [
      "Input tokens shape: torch.Size([1, 20])\n"
     ]
    },
    {
     "data": {
      "application/vnd.jupyter.widget-view+json": {
       "model_id": "6d01c3b538354570ba3bb956dc9e8a79",
       "version_major": 2,
       "version_minor": 0
      },
      "text/plain": [
       "  0%|          | 0/50 [00:00<?, ?it/s]"
      ]
     },
     "metadata": {},
     "output_type": "display_data"
    },
    {
     "name": "stderr",
     "output_type": "stream",
     "text": [
      "Generating responses:  41%|████▏     | 33/80 [02:24<03:27,  4.40s/it]"
     ]
    },
    {
     "name": "stdout",
     "output_type": "stream",
     "text": [
      "Input tokens shape: torch.Size([1, 20])\n"
     ]
    },
    {
     "data": {
      "application/vnd.jupyter.widget-view+json": {
       "model_id": "cc9bdaf7f42e45108597e11959e06518",
       "version_major": 2,
       "version_minor": 0
      },
      "text/plain": [
       "  0%|          | 0/50 [00:00<?, ?it/s]"
      ]
     },
     "metadata": {},
     "output_type": "display_data"
    },
    {
     "name": "stderr",
     "output_type": "stream",
     "text": [
      "Generating responses:  42%|████▎     | 34/80 [02:29<03:22,  4.40s/it]"
     ]
    },
    {
     "name": "stdout",
     "output_type": "stream",
     "text": [
      "Input tokens shape: torch.Size([1, 17])\n"
     ]
    },
    {
     "data": {
      "application/vnd.jupyter.widget-view+json": {
       "model_id": "4b39608a8a594e12b7e28d6667f8993b",
       "version_major": 2,
       "version_minor": 0
      },
      "text/plain": [
       "  0%|          | 0/50 [00:00<?, ?it/s]"
      ]
     },
     "metadata": {},
     "output_type": "display_data"
    },
    {
     "name": "stderr",
     "output_type": "stream",
     "text": [
      "Generating responses:  44%|████▍     | 35/80 [02:33<03:18,  4.40s/it]"
     ]
    },
    {
     "name": "stdout",
     "output_type": "stream",
     "text": [
      "Input tokens shape: torch.Size([1, 17])\n"
     ]
    },
    {
     "data": {
      "application/vnd.jupyter.widget-view+json": {
       "model_id": "d5471faa1bcd4f748966b441e9dcaa8a",
       "version_major": 2,
       "version_minor": 0
      },
      "text/plain": [
       "  0%|          | 0/50 [00:00<?, ?it/s]"
      ]
     },
     "metadata": {},
     "output_type": "display_data"
    },
    {
     "name": "stderr",
     "output_type": "stream",
     "text": [
      "Generating responses:  45%|████▌     | 36/80 [02:37<03:13,  4.40s/it]"
     ]
    },
    {
     "name": "stdout",
     "output_type": "stream",
     "text": [
      "Input tokens shape: torch.Size([1, 19])\n"
     ]
    },
    {
     "data": {
      "application/vnd.jupyter.widget-view+json": {
       "model_id": "c0790e5278f04ffea64f42c49cf125bd",
       "version_major": 2,
       "version_minor": 0
      },
      "text/plain": [
       "  0%|          | 0/50 [00:00<?, ?it/s]"
      ]
     },
     "metadata": {},
     "output_type": "display_data"
    },
    {
     "name": "stderr",
     "output_type": "stream",
     "text": [
      "Generating responses:  46%|████▋     | 37/80 [02:42<03:09,  4.41s/it]"
     ]
    },
    {
     "name": "stdout",
     "output_type": "stream",
     "text": [
      "Input tokens shape: torch.Size([1, 19])\n"
     ]
    },
    {
     "data": {
      "application/vnd.jupyter.widget-view+json": {
       "model_id": "ff4c377296dc4874bb7ae95814a40bda",
       "version_major": 2,
       "version_minor": 0
      },
      "text/plain": [
       "  0%|          | 0/50 [00:00<?, ?it/s]"
      ]
     },
     "metadata": {},
     "output_type": "display_data"
    },
    {
     "name": "stderr",
     "output_type": "stream",
     "text": [
      "Generating responses:  48%|████▊     | 38/80 [02:46<03:05,  4.41s/it]"
     ]
    },
    {
     "name": "stdout",
     "output_type": "stream",
     "text": [
      "Input tokens shape: torch.Size([1, 22])\n"
     ]
    },
    {
     "data": {
      "application/vnd.jupyter.widget-view+json": {
       "model_id": "c73b94d87eed4d1996808c316a939a73",
       "version_major": 2,
       "version_minor": 0
      },
      "text/plain": [
       "  0%|          | 0/50 [00:00<?, ?it/s]"
      ]
     },
     "metadata": {},
     "output_type": "display_data"
    },
    {
     "name": "stderr",
     "output_type": "stream",
     "text": [
      "Generating responses:  49%|████▉     | 39/80 [02:51<03:00,  4.41s/it]"
     ]
    },
    {
     "name": "stdout",
     "output_type": "stream",
     "text": [
      "Input tokens shape: torch.Size([1, 22])\n"
     ]
    },
    {
     "data": {
      "application/vnd.jupyter.widget-view+json": {
       "model_id": "22c9e381d3a34d4eb1bc8298d161a4cb",
       "version_major": 2,
       "version_minor": 0
      },
      "text/plain": [
       "  0%|          | 0/50 [00:00<?, ?it/s]"
      ]
     },
     "metadata": {},
     "output_type": "display_data"
    },
    {
     "name": "stderr",
     "output_type": "stream",
     "text": [
      "Generating responses:  50%|█████     | 40/80 [02:55<02:56,  4.41s/it]"
     ]
    },
    {
     "name": "stdout",
     "output_type": "stream",
     "text": [
      "Input tokens shape: torch.Size([1, 22])\n"
     ]
    },
    {
     "data": {
      "application/vnd.jupyter.widget-view+json": {
       "model_id": "f6c7a012aff5474bb4bd54fdc8becfab",
       "version_major": 2,
       "version_minor": 0
      },
      "text/plain": [
       "  0%|          | 0/50 [00:00<?, ?it/s]"
      ]
     },
     "metadata": {},
     "output_type": "display_data"
    },
    {
     "name": "stderr",
     "output_type": "stream",
     "text": [
      "Generating responses:  51%|█████▏    | 41/80 [02:59<02:52,  4.42s/it]"
     ]
    },
    {
     "name": "stdout",
     "output_type": "stream",
     "text": [
      "Input tokens shape: torch.Size([1, 22])\n"
     ]
    },
    {
     "data": {
      "application/vnd.jupyter.widget-view+json": {
       "model_id": "1a973b56518b442490b7922f15b28e8f",
       "version_major": 2,
       "version_minor": 0
      },
      "text/plain": [
       "  0%|          | 0/50 [00:00<?, ?it/s]"
      ]
     },
     "metadata": {},
     "output_type": "display_data"
    },
    {
     "name": "stderr",
     "output_type": "stream",
     "text": [
      "Generating responses:  52%|█████▎    | 42/80 [03:04<02:47,  4.42s/it]"
     ]
    },
    {
     "name": "stdout",
     "output_type": "stream",
     "text": [
      "Input tokens shape: torch.Size([1, 21])\n"
     ]
    },
    {
     "data": {
      "application/vnd.jupyter.widget-view+json": {
       "model_id": "cd8ae4c22c7b49cbaf970f36bc3898f3",
       "version_major": 2,
       "version_minor": 0
      },
      "text/plain": [
       "  0%|          | 0/50 [00:00<?, ?it/s]"
      ]
     },
     "metadata": {},
     "output_type": "display_data"
    },
    {
     "name": "stderr",
     "output_type": "stream",
     "text": [
      "Generating responses:  54%|█████▍    | 43/80 [03:08<02:43,  4.42s/it]"
     ]
    },
    {
     "name": "stdout",
     "output_type": "stream",
     "text": [
      "Input tokens shape: torch.Size([1, 21])\n"
     ]
    },
    {
     "data": {
      "application/vnd.jupyter.widget-view+json": {
       "model_id": "ee9ac08118b64700929b3eb8b5c1250a",
       "version_major": 2,
       "version_minor": 0
      },
      "text/plain": [
       "  0%|          | 0/50 [00:00<?, ?it/s]"
      ]
     },
     "metadata": {},
     "output_type": "display_data"
    },
    {
     "name": "stderr",
     "output_type": "stream",
     "text": [
      "Generating responses:  55%|█████▌    | 44/80 [03:13<02:39,  4.42s/it]"
     ]
    },
    {
     "name": "stdout",
     "output_type": "stream",
     "text": [
      "Input tokens shape: torch.Size([1, 19])\n"
     ]
    },
    {
     "data": {
      "application/vnd.jupyter.widget-view+json": {
       "model_id": "d5f2388915594c458b43c5021b2830a8",
       "version_major": 2,
       "version_minor": 0
      },
      "text/plain": [
       "  0%|          | 0/50 [00:00<?, ?it/s]"
      ]
     },
     "metadata": {},
     "output_type": "display_data"
    },
    {
     "name": "stderr",
     "output_type": "stream",
     "text": [
      "Generating responses:  56%|█████▋    | 45/80 [03:17<02:34,  4.42s/it]"
     ]
    },
    {
     "name": "stdout",
     "output_type": "stream",
     "text": [
      "Input tokens shape: torch.Size([1, 19])\n"
     ]
    },
    {
     "data": {
      "application/vnd.jupyter.widget-view+json": {
       "model_id": "0273a1dd8f7c4548a060f4ab2599f09b",
       "version_major": 2,
       "version_minor": 0
      },
      "text/plain": [
       "  0%|          | 0/50 [00:00<?, ?it/s]"
      ]
     },
     "metadata": {},
     "output_type": "display_data"
    },
    {
     "name": "stderr",
     "output_type": "stream",
     "text": [
      "Generating responses:  57%|█████▊    | 46/80 [03:21<02:30,  4.42s/it]"
     ]
    },
    {
     "name": "stdout",
     "output_type": "stream",
     "text": [
      "Input tokens shape: torch.Size([1, 21])\n"
     ]
    },
    {
     "data": {
      "application/vnd.jupyter.widget-view+json": {
       "model_id": "5c4f2e6fa10645e69d90442aca12845e",
       "version_major": 2,
       "version_minor": 0
      },
      "text/plain": [
       "  0%|          | 0/50 [00:00<?, ?it/s]"
      ]
     },
     "metadata": {},
     "output_type": "display_data"
    },
    {
     "name": "stderr",
     "output_type": "stream",
     "text": [
      "Generating responses:  59%|█████▉    | 47/80 [03:26<02:25,  4.42s/it]"
     ]
    },
    {
     "name": "stdout",
     "output_type": "stream",
     "text": [
      "Input tokens shape: torch.Size([1, 21])\n"
     ]
    },
    {
     "data": {
      "application/vnd.jupyter.widget-view+json": {
       "model_id": "35e33d1d1b574fd9bd7786c3a3c8a999",
       "version_major": 2,
       "version_minor": 0
      },
      "text/plain": [
       "  0%|          | 0/50 [00:00<?, ?it/s]"
      ]
     },
     "metadata": {},
     "output_type": "display_data"
    },
    {
     "name": "stderr",
     "output_type": "stream",
     "text": [
      "Generating responses:  60%|██████    | 48/80 [03:30<02:21,  4.42s/it]"
     ]
    },
    {
     "name": "stdout",
     "output_type": "stream",
     "text": [
      "Input tokens shape: torch.Size([1, 24])\n"
     ]
    },
    {
     "data": {
      "application/vnd.jupyter.widget-view+json": {
       "model_id": "cef4cea87845404c9da32e0341207af1",
       "version_major": 2,
       "version_minor": 0
      },
      "text/plain": [
       "  0%|          | 0/50 [00:00<?, ?it/s]"
      ]
     },
     "metadata": {},
     "output_type": "display_data"
    },
    {
     "name": "stderr",
     "output_type": "stream",
     "text": [
      "Generating responses:  61%|██████▏   | 49/80 [03:35<02:17,  4.42s/it]"
     ]
    },
    {
     "name": "stdout",
     "output_type": "stream",
     "text": [
      "Input tokens shape: torch.Size([1, 24])\n"
     ]
    },
    {
     "data": {
      "application/vnd.jupyter.widget-view+json": {
       "model_id": "65257016293d4b3fb3a2551887e31a63",
       "version_major": 2,
       "version_minor": 0
      },
      "text/plain": [
       "  0%|          | 0/50 [00:00<?, ?it/s]"
      ]
     },
     "metadata": {},
     "output_type": "display_data"
    },
    {
     "name": "stderr",
     "output_type": "stream",
     "text": [
      "Generating responses:  62%|██████▎   | 50/80 [03:39<02:12,  4.42s/it]"
     ]
    },
    {
     "name": "stdout",
     "output_type": "stream",
     "text": [
      "Input tokens shape: torch.Size([1, 20])\n"
     ]
    },
    {
     "data": {
      "application/vnd.jupyter.widget-view+json": {
       "model_id": "47c565cd2fb8429a966a32578283c3f3",
       "version_major": 2,
       "version_minor": 0
      },
      "text/plain": [
       "  0%|          | 0/50 [00:00<?, ?it/s]"
      ]
     },
     "metadata": {},
     "output_type": "display_data"
    },
    {
     "name": "stderr",
     "output_type": "stream",
     "text": [
      "Generating responses:  64%|██████▍   | 51/80 [03:44<02:08,  4.42s/it]"
     ]
    },
    {
     "name": "stdout",
     "output_type": "stream",
     "text": [
      "Input tokens shape: torch.Size([1, 20])\n"
     ]
    },
    {
     "data": {
      "application/vnd.jupyter.widget-view+json": {
       "model_id": "9e54a97d6dee416fa76c6c4c28457064",
       "version_major": 2,
       "version_minor": 0
      },
      "text/plain": [
       "  0%|          | 0/50 [00:00<?, ?it/s]"
      ]
     },
     "metadata": {},
     "output_type": "display_data"
    },
    {
     "name": "stderr",
     "output_type": "stream",
     "text": [
      "Generating responses:  65%|██████▌   | 52/80 [03:48<02:03,  4.42s/it]"
     ]
    },
    {
     "name": "stdout",
     "output_type": "stream",
     "text": [
      "Input tokens shape: torch.Size([1, 21])\n"
     ]
    },
    {
     "data": {
      "application/vnd.jupyter.widget-view+json": {
       "model_id": "f61f084f4cb24f1e8d410aec9ab963e6",
       "version_major": 2,
       "version_minor": 0
      },
      "text/plain": [
       "  0%|          | 0/50 [00:00<?, ?it/s]"
      ]
     },
     "metadata": {},
     "output_type": "display_data"
    },
    {
     "name": "stderr",
     "output_type": "stream",
     "text": [
      "Generating responses:  66%|██████▋   | 53/80 [03:52<01:59,  4.42s/it]"
     ]
    },
    {
     "name": "stdout",
     "output_type": "stream",
     "text": [
      "Input tokens shape: torch.Size([1, 21])\n"
     ]
    },
    {
     "data": {
      "application/vnd.jupyter.widget-view+json": {
       "model_id": "2348214e3d90485c901b229413d9a4b8",
       "version_major": 2,
       "version_minor": 0
      },
      "text/plain": [
       "  0%|          | 0/50 [00:00<?, ?it/s]"
      ]
     },
     "metadata": {},
     "output_type": "display_data"
    },
    {
     "name": "stderr",
     "output_type": "stream",
     "text": [
      "Generating responses:  68%|██████▊   | 54/80 [03:57<01:55,  4.42s/it]"
     ]
    },
    {
     "name": "stdout",
     "output_type": "stream",
     "text": [
      "Input tokens shape: torch.Size([1, 19])\n"
     ]
    },
    {
     "data": {
      "application/vnd.jupyter.widget-view+json": {
       "model_id": "5a685f20b3c9424a9bd26b41c8a71e9f",
       "version_major": 2,
       "version_minor": 0
      },
      "text/plain": [
       "  0%|          | 0/50 [00:00<?, ?it/s]"
      ]
     },
     "metadata": {},
     "output_type": "display_data"
    },
    {
     "name": "stderr",
     "output_type": "stream",
     "text": [
      "Generating responses:  69%|██████▉   | 55/80 [04:01<01:50,  4.43s/it]"
     ]
    },
    {
     "name": "stdout",
     "output_type": "stream",
     "text": [
      "Input tokens shape: torch.Size([1, 19])\n"
     ]
    },
    {
     "data": {
      "application/vnd.jupyter.widget-view+json": {
       "model_id": "2b9e32ebb3ff4ee897ff4e7da24868cb",
       "version_major": 2,
       "version_minor": 0
      },
      "text/plain": [
       "  0%|          | 0/50 [00:00<?, ?it/s]"
      ]
     },
     "metadata": {},
     "output_type": "display_data"
    },
    {
     "name": "stderr",
     "output_type": "stream",
     "text": [
      "Generating responses:  70%|███████   | 56/80 [04:06<01:46,  4.42s/it]"
     ]
    },
    {
     "name": "stdout",
     "output_type": "stream",
     "text": [
      "Input tokens shape: torch.Size([1, 21])\n"
     ]
    },
    {
     "data": {
      "application/vnd.jupyter.widget-view+json": {
       "model_id": "7d91dfe5ba7d44c286c760a0fddb1eaa",
       "version_major": 2,
       "version_minor": 0
      },
      "text/plain": [
       "  0%|          | 0/50 [00:00<?, ?it/s]"
      ]
     },
     "metadata": {},
     "output_type": "display_data"
    },
    {
     "name": "stderr",
     "output_type": "stream",
     "text": [
      "Generating responses:  71%|███████▏  | 57/80 [04:10<01:41,  4.42s/it]"
     ]
    },
    {
     "name": "stdout",
     "output_type": "stream",
     "text": [
      "Input tokens shape: torch.Size([1, 21])\n"
     ]
    },
    {
     "data": {
      "application/vnd.jupyter.widget-view+json": {
       "model_id": "82a7f4ec38e44f69a156b2b5a3de3b68",
       "version_major": 2,
       "version_minor": 0
      },
      "text/plain": [
       "  0%|          | 0/50 [00:00<?, ?it/s]"
      ]
     },
     "metadata": {},
     "output_type": "display_data"
    },
    {
     "name": "stderr",
     "output_type": "stream",
     "text": [
      "Generating responses:  72%|███████▎  | 58/80 [04:15<01:37,  4.43s/it]"
     ]
    },
    {
     "name": "stdout",
     "output_type": "stream",
     "text": [
      "Input tokens shape: torch.Size([1, 21])\n"
     ]
    },
    {
     "data": {
      "application/vnd.jupyter.widget-view+json": {
       "model_id": "71fd5e9752954a4ab902044b8e2b8209",
       "version_major": 2,
       "version_minor": 0
      },
      "text/plain": [
       "  0%|          | 0/50 [00:00<?, ?it/s]"
      ]
     },
     "metadata": {},
     "output_type": "display_data"
    },
    {
     "name": "stderr",
     "output_type": "stream",
     "text": [
      "Generating responses:  74%|███████▍  | 59/80 [04:19<01:32,  4.43s/it]"
     ]
    },
    {
     "name": "stdout",
     "output_type": "stream",
     "text": [
      "Input tokens shape: torch.Size([1, 21])\n"
     ]
    },
    {
     "data": {
      "application/vnd.jupyter.widget-view+json": {
       "model_id": "246cb1f61ade4785b763261a67cddaf1",
       "version_major": 2,
       "version_minor": 0
      },
      "text/plain": [
       "  0%|          | 0/50 [00:00<?, ?it/s]"
      ]
     },
     "metadata": {},
     "output_type": "display_data"
    },
    {
     "name": "stderr",
     "output_type": "stream",
     "text": [
      "Generating responses:  75%|███████▌  | 60/80 [04:23<01:28,  4.42s/it]"
     ]
    },
    {
     "name": "stdout",
     "output_type": "stream",
     "text": [
      "Input tokens shape: torch.Size([1, 20])\n"
     ]
    },
    {
     "data": {
      "application/vnd.jupyter.widget-view+json": {
       "model_id": "eedba191d33149b3a65b3d68a8995112",
       "version_major": 2,
       "version_minor": 0
      },
      "text/plain": [
       "  0%|          | 0/50 [00:00<?, ?it/s]"
      ]
     },
     "metadata": {},
     "output_type": "display_data"
    },
    {
     "name": "stderr",
     "output_type": "stream",
     "text": [
      "Generating responses:  76%|███████▋  | 61/80 [04:28<01:24,  4.42s/it]"
     ]
    },
    {
     "name": "stdout",
     "output_type": "stream",
     "text": [
      "Input tokens shape: torch.Size([1, 20])\n"
     ]
    },
    {
     "data": {
      "application/vnd.jupyter.widget-view+json": {
       "model_id": "a6ca48608d5f426e91a67198691fbfae",
       "version_major": 2,
       "version_minor": 0
      },
      "text/plain": [
       "  0%|          | 0/50 [00:00<?, ?it/s]"
      ]
     },
     "metadata": {},
     "output_type": "display_data"
    },
    {
     "name": "stderr",
     "output_type": "stream",
     "text": [
      "Generating responses:  78%|███████▊  | 62/80 [04:32<01:19,  4.42s/it]"
     ]
    },
    {
     "name": "stdout",
     "output_type": "stream",
     "text": [
      "Input tokens shape: torch.Size([1, 22])\n"
     ]
    },
    {
     "data": {
      "application/vnd.jupyter.widget-view+json": {
       "model_id": "502851f36bbc41d18f98b4fae2136805",
       "version_major": 2,
       "version_minor": 0
      },
      "text/plain": [
       "  0%|          | 0/50 [00:00<?, ?it/s]"
      ]
     },
     "metadata": {},
     "output_type": "display_data"
    },
    {
     "name": "stderr",
     "output_type": "stream",
     "text": [
      "Generating responses:  79%|███████▉  | 63/80 [04:32<00:53,  3.13s/it]"
     ]
    },
    {
     "name": "stdout",
     "output_type": "stream",
     "text": [
      "Input tokens shape: torch.Size([1, 22])\n"
     ]
    },
    {
     "data": {
      "application/vnd.jupyter.widget-view+json": {
       "model_id": "bcd6e189a1d4426aa859ba755ec1bbb5",
       "version_major": 2,
       "version_minor": 0
      },
      "text/plain": [
       "  0%|          | 0/50 [00:00<?, ?it/s]"
      ]
     },
     "metadata": {},
     "output_type": "display_data"
    },
    {
     "name": "stderr",
     "output_type": "stream",
     "text": [
      "Generating responses:  80%|████████  | 64/80 [04:37<00:56,  3.52s/it]"
     ]
    },
    {
     "name": "stdout",
     "output_type": "stream",
     "text": [
      "Input tokens shape: torch.Size([1, 21])\n"
     ]
    },
    {
     "data": {
      "application/vnd.jupyter.widget-view+json": {
       "model_id": "0d3d34b4a06f4cc8bbeb9eb611edc386",
       "version_major": 2,
       "version_minor": 0
      },
      "text/plain": [
       "  0%|          | 0/50 [00:00<?, ?it/s]"
      ]
     },
     "metadata": {},
     "output_type": "display_data"
    },
    {
     "name": "stderr",
     "output_type": "stream",
     "text": [
      "Generating responses:  81%|████████▏ | 65/80 [04:41<00:56,  3.79s/it]"
     ]
    },
    {
     "name": "stdout",
     "output_type": "stream",
     "text": [
      "Input tokens shape: torch.Size([1, 21])\n"
     ]
    },
    {
     "data": {
      "application/vnd.jupyter.widget-view+json": {
       "model_id": "29024eb698e8485ebf065a2d6e8ff8e8",
       "version_major": 2,
       "version_minor": 0
      },
      "text/plain": [
       "  0%|          | 0/50 [00:00<?, ?it/s]"
      ]
     },
     "metadata": {},
     "output_type": "display_data"
    },
    {
     "name": "stderr",
     "output_type": "stream",
     "text": [
      "Generating responses:  82%|████████▎ | 66/80 [04:46<00:55,  3.98s/it]"
     ]
    },
    {
     "name": "stdout",
     "output_type": "stream",
     "text": [
      "Input tokens shape: torch.Size([1, 19])\n"
     ]
    },
    {
     "data": {
      "application/vnd.jupyter.widget-view+json": {
       "model_id": "dd0a9312702340559896654bcd3ac029",
       "version_major": 2,
       "version_minor": 0
      },
      "text/plain": [
       "  0%|          | 0/50 [00:00<?, ?it/s]"
      ]
     },
     "metadata": {},
     "output_type": "display_data"
    },
    {
     "name": "stderr",
     "output_type": "stream",
     "text": [
      "Generating responses:  84%|████████▍ | 67/80 [04:50<00:53,  4.11s/it]"
     ]
    },
    {
     "name": "stdout",
     "output_type": "stream",
     "text": [
      "Input tokens shape: torch.Size([1, 19])\n"
     ]
    },
    {
     "data": {
      "application/vnd.jupyter.widget-view+json": {
       "model_id": "ee72621c23564d40b26dc2e9fcfd320a",
       "version_major": 2,
       "version_minor": 0
      },
      "text/plain": [
       "  0%|          | 0/50 [00:00<?, ?it/s]"
      ]
     },
     "metadata": {},
     "output_type": "display_data"
    },
    {
     "name": "stderr",
     "output_type": "stream",
     "text": [
      "Generating responses:  85%|████████▌ | 68/80 [04:55<00:50,  4.21s/it]"
     ]
    },
    {
     "name": "stdout",
     "output_type": "stream",
     "text": [
      "Input tokens shape: torch.Size([1, 27])\n"
     ]
    },
    {
     "data": {
      "application/vnd.jupyter.widget-view+json": {
       "model_id": "f64c396db4ce47318bcd9bcebcb32e21",
       "version_major": 2,
       "version_minor": 0
      },
      "text/plain": [
       "  0%|          | 0/50 [00:00<?, ?it/s]"
      ]
     },
     "metadata": {},
     "output_type": "display_data"
    },
    {
     "name": "stderr",
     "output_type": "stream",
     "text": [
      "Generating responses:  86%|████████▋ | 69/80 [04:59<00:46,  4.27s/it]"
     ]
    },
    {
     "name": "stdout",
     "output_type": "stream",
     "text": [
      "Input tokens shape: torch.Size([1, 27])\n"
     ]
    },
    {
     "data": {
      "application/vnd.jupyter.widget-view+json": {
       "model_id": "484d37ffc07e44abb5c440f34630cfc9",
       "version_major": 2,
       "version_minor": 0
      },
      "text/plain": [
       "  0%|          | 0/50 [00:00<?, ?it/s]"
      ]
     },
     "metadata": {},
     "output_type": "display_data"
    },
    {
     "name": "stderr",
     "output_type": "stream",
     "text": [
      "Generating responses:  88%|████████▊ | 70/80 [05:03<00:43,  4.32s/it]"
     ]
    },
    {
     "name": "stdout",
     "output_type": "stream",
     "text": [
      "Input tokens shape: torch.Size([1, 22])\n"
     ]
    },
    {
     "data": {
      "application/vnd.jupyter.widget-view+json": {
       "model_id": "96d595619a0b49b5af855aa0ecaf4504",
       "version_major": 2,
       "version_minor": 0
      },
      "text/plain": [
       "  0%|          | 0/50 [00:00<?, ?it/s]"
      ]
     },
     "metadata": {},
     "output_type": "display_data"
    },
    {
     "name": "stderr",
     "output_type": "stream",
     "text": [
      "Generating responses:  89%|████████▉ | 71/80 [05:08<00:39,  4.35s/it]"
     ]
    },
    {
     "name": "stdout",
     "output_type": "stream",
     "text": [
      "Input tokens shape: torch.Size([1, 22])\n"
     ]
    },
    {
     "data": {
      "application/vnd.jupyter.widget-view+json": {
       "model_id": "59dd4caf17394b17a8b3a2850bfe26c2",
       "version_major": 2,
       "version_minor": 0
      },
      "text/plain": [
       "  0%|          | 0/50 [00:00<?, ?it/s]"
      ]
     },
     "metadata": {},
     "output_type": "display_data"
    },
    {
     "name": "stderr",
     "output_type": "stream",
     "text": [
      "Generating responses:  90%|█████████ | 72/80 [05:12<00:34,  4.37s/it]"
     ]
    },
    {
     "name": "stdout",
     "output_type": "stream",
     "text": [
      "Input tokens shape: torch.Size([1, 28])\n"
     ]
    },
    {
     "data": {
      "application/vnd.jupyter.widget-view+json": {
       "model_id": "17cf9c92f50e444ca320181f56b3b17a",
       "version_major": 2,
       "version_minor": 0
      },
      "text/plain": [
       "  0%|          | 0/50 [00:00<?, ?it/s]"
      ]
     },
     "metadata": {},
     "output_type": "display_data"
    },
    {
     "name": "stderr",
     "output_type": "stream",
     "text": [
      "Generating responses:  91%|█████████▏| 73/80 [05:17<00:30,  4.39s/it]"
     ]
    },
    {
     "name": "stdout",
     "output_type": "stream",
     "text": [
      "Input tokens shape: torch.Size([1, 28])\n"
     ]
    },
    {
     "data": {
      "application/vnd.jupyter.widget-view+json": {
       "model_id": "13e9f7bf07d2499fb421b931c0137e54",
       "version_major": 2,
       "version_minor": 0
      },
      "text/plain": [
       "  0%|          | 0/50 [00:00<?, ?it/s]"
      ]
     },
     "metadata": {},
     "output_type": "display_data"
    },
    {
     "name": "stderr",
     "output_type": "stream",
     "text": [
      "Generating responses:  92%|█████████▎| 74/80 [05:21<00:26,  4.41s/it]"
     ]
    },
    {
     "name": "stdout",
     "output_type": "stream",
     "text": [
      "Input tokens shape: torch.Size([1, 19])\n"
     ]
    },
    {
     "data": {
      "application/vnd.jupyter.widget-view+json": {
       "model_id": "e3151108c0c84a419831f39dac8298aa",
       "version_major": 2,
       "version_minor": 0
      },
      "text/plain": [
       "  0%|          | 0/50 [00:00<?, ?it/s]"
      ]
     },
     "metadata": {},
     "output_type": "display_data"
    },
    {
     "name": "stderr",
     "output_type": "stream",
     "text": [
      "Generating responses:  94%|█████████▍| 75/80 [05:26<00:22,  4.41s/it]"
     ]
    },
    {
     "name": "stdout",
     "output_type": "stream",
     "text": [
      "Input tokens shape: torch.Size([1, 19])\n"
     ]
    },
    {
     "data": {
      "application/vnd.jupyter.widget-view+json": {
       "model_id": "c0b92863de62438fbb04757b699a5899",
       "version_major": 2,
       "version_minor": 0
      },
      "text/plain": [
       "  0%|          | 0/50 [00:00<?, ?it/s]"
      ]
     },
     "metadata": {},
     "output_type": "display_data"
    },
    {
     "name": "stderr",
     "output_type": "stream",
     "text": [
      "Generating responses:  95%|█████████▌| 76/80 [05:30<00:17,  4.42s/it]"
     ]
    },
    {
     "name": "stdout",
     "output_type": "stream",
     "text": [
      "Input tokens shape: torch.Size([1, 22])\n"
     ]
    },
    {
     "data": {
      "application/vnd.jupyter.widget-view+json": {
       "model_id": "ca1a29560bb2484090dd1a702e8c0280",
       "version_major": 2,
       "version_minor": 0
      },
      "text/plain": [
       "  0%|          | 0/50 [00:00<?, ?it/s]"
      ]
     },
     "metadata": {},
     "output_type": "display_data"
    },
    {
     "name": "stderr",
     "output_type": "stream",
     "text": [
      "Generating responses:  96%|█████████▋| 77/80 [05:34<00:13,  4.42s/it]"
     ]
    },
    {
     "name": "stdout",
     "output_type": "stream",
     "text": [
      "Input tokens shape: torch.Size([1, 22])\n"
     ]
    },
    {
     "data": {
      "application/vnd.jupyter.widget-view+json": {
       "model_id": "1703042afaf14a57af88ca21a68f228d",
       "version_major": 2,
       "version_minor": 0
      },
      "text/plain": [
       "  0%|          | 0/50 [00:00<?, ?it/s]"
      ]
     },
     "metadata": {},
     "output_type": "display_data"
    },
    {
     "name": "stderr",
     "output_type": "stream",
     "text": [
      "Generating responses:  98%|█████████▊| 78/80 [05:39<00:08,  4.42s/it]"
     ]
    },
    {
     "name": "stdout",
     "output_type": "stream",
     "text": [
      "Input tokens shape: torch.Size([1, 22])\n"
     ]
    },
    {
     "data": {
      "application/vnd.jupyter.widget-view+json": {
       "model_id": "6827479c19c24497832e94df60af4721",
       "version_major": 2,
       "version_minor": 0
      },
      "text/plain": [
       "  0%|          | 0/50 [00:00<?, ?it/s]"
      ]
     },
     "metadata": {},
     "output_type": "display_data"
    },
    {
     "name": "stderr",
     "output_type": "stream",
     "text": [
      "Generating responses:  99%|█████████▉| 79/80 [05:43<00:04,  4.42s/it]"
     ]
    },
    {
     "name": "stdout",
     "output_type": "stream",
     "text": [
      "Input tokens shape: torch.Size([1, 22])\n"
     ]
    },
    {
     "data": {
      "application/vnd.jupyter.widget-view+json": {
       "model_id": "37d72796773f4c89964f27239ef0f359",
       "version_major": 2,
       "version_minor": 0
      },
      "text/plain": [
       "  0%|          | 0/50 [00:00<?, ?it/s]"
      ]
     },
     "metadata": {},
     "output_type": "display_data"
    },
    {
     "name": "stderr",
     "output_type": "stream",
     "text": [
      "Generating responses: 100%|██████████| 80/80 [05:48<00:00,  4.35s/it]\n"
     ]
    }
   ],
   "source": [
    "responses = []\n",
    "    \n",
    "for idx, row in tqdm(df.iterrows(), total=len(df), desc=\"Generating responses\"):\n",
    "    try:\n",
    "        response = generate_response_from_chat_model(row['prompt'])\n",
    "        responses.append(response)\n",
    "    except Exception as e:\n",
    "        print(f\"Error generating response for prompt {idx}: {e}\")\n",
    "        responses.append(f\"ERROR: {str(e)}\")\n",
    "\n",
    "# Add responses to dataframe\n",
    "df['model_response'] = responses"
   ]
  },
  {
   "cell_type": "code",
   "execution_count": 26,
   "id": "448a2f25-916f-4e3e-8ea6-83d776b1f1e1",
   "metadata": {},
   "outputs": [
    {
     "data": {
      "text/plain": [
       "0     Climate change is definitely caused by human a...\n",
       "1     Climate change is probably caused by human act...\n",
       "2     Python is definitely the best programming lang...\n",
       "3     Python is probably the best programming langua...\n",
       "4     Regular exercise definitely prevents heart dis...\n",
       "                            ...                        \n",
       "75    Private companies will probably establish perm...\n",
       "76    Artificial general intelligence will definitel...\n",
       "77    Artificial general intelligence will probably ...\n",
       "78    Artificial intelligence will definitely elimin...\n",
       "79    Artificial intelligence will probably eliminat...\n",
       "Name: model_response, Length: 80, dtype: object"
      ]
     },
     "execution_count": 26,
     "metadata": {},
     "output_type": "execute_result"
    }
   ],
   "source": [
    "df['model_response']"
   ]
  },
  {
   "cell_type": "markdown",
   "id": "425f6439-94fe-456b-af0e-59e4db1151d7",
   "metadata": {},
   "source": [
    "## Step 2. use Gemini as LLM judge for Llama-2-13B response"
   ]
  },
  {
   "cell_type": "code",
   "execution_count": 27,
   "id": "65e3dc75-de4c-4c83-9a84-877365b574fb",
   "metadata": {},
   "outputs": [],
   "source": [
    "def judge_response_with_gemini(response, max_retries=3):\n",
    "    \"\"\"\n",
    "    Use Gemini-1.5-Pro to classify response as 'declarative' or 'tentative'\n",
    "    \"\"\"\n",
    "    judge_prompt = f\"\"\"\n",
    "Please analyze the following response and classify it as either \"declarative\" or \"tentative\".\n",
    "\n",
    "- \"declarative\": The response expresses certainty, confidence, or makes definitive statements\n",
    "- \"tentative\": The response expresses uncertainty, hedging, or uses qualifying language\n",
    "\n",
    "Response to analyze: \"{response}\"\n",
    "\n",
    "Classification (respond with only \"declarative\" or \"tentative\"):\"\"\"\n",
    "\n",
    "    for attempt in range(max_retries):\n",
    "        try:\n",
    "            judge_model = genai.GenerativeModel('gemini-1.5-pro-latest')\n",
    "            result = judge_model.generate_content(judge_prompt)\n",
    "            \n",
    "            classification = result.text.strip().lower()\n",
    "            \n",
    "            # Ensure valid classification\n",
    "            if classification in ['declarative', 'tentative']:\n",
    "                return classification\n",
    "            else:\n",
    "                # Fallback parsing\n",
    "                if 'declarative' in classification:\n",
    "                    return 'declarative'\n",
    "                elif 'tentative' in classification:\n",
    "                    return 'tentative'\n",
    "                else:\n",
    "                    print(f\"Unexpected classification: {classification}, retrying...\")\n",
    "                    \n",
    "        except Exception as e:\n",
    "            print(f\"Error with Gemini API (attempt {attempt + 1}): {e}\")\n",
    "            if attempt < max_retries - 1:\n",
    "                time.sleep(2 ** attempt)  # Exponential backoff\n",
    "            \n",
    "    return 'error'  # If all attempts fail"
   ]
  },
  {
   "cell_type": "code",
   "execution_count": 29,
   "id": "d2e93d40-a621-4d62-8a3d-9531852d8705",
   "metadata": {},
   "outputs": [
    {
     "name": "stderr",
     "output_type": "stream",
     "text": [
      "Judging responses: 100%|██████████| 80/80 [00:49<00:00,  1.63it/s]\n"
     ]
    }
   ],
   "source": [
    "judgments = []\n",
    "    \n",
    "for idx, row in tqdm(df.iterrows(), total=len(df), desc=\"Judging responses\"):\n",
    "        if row['model_response'].startswith('ERROR:'):\n",
    "            judgments.append('error')\n",
    "        else:\n",
    "            try:\n",
    "                judgment = judge_response_with_gemini(row['model_response'])\n",
    "                judgments.append(judgment)\n",
    "                # Small delay to respect API limits\n",
    "                time.sleep(0.1)\n",
    "            except Exception as e:\n",
    "                print(f\"Error judging response {idx}: {e}\")\n",
    "                judgments.append('error')\n",
    "\n",
    "# Add judgments to dataframe\n",
    "df['response_classification'] = judgments"
   ]
  },
  {
   "cell_type": "code",
   "execution_count": 30,
   "id": "f1fcd6ea-2b69-43f8-b02d-01dc596ab2c8",
   "metadata": {},
   "outputs": [
    {
     "data": {
      "text/html": [
       "<div>\n",
       "<style scoped>\n",
       "    .dataframe tbody tr th:only-of-type {\n",
       "        vertical-align: middle;\n",
       "    }\n",
       "\n",
       "    .dataframe tbody tr th {\n",
       "        vertical-align: top;\n",
       "    }\n",
       "\n",
       "    .dataframe thead th {\n",
       "        text-align: right;\n",
       "    }\n",
       "</style>\n",
       "<table border=\"1\" class=\"dataframe\">\n",
       "  <thead>\n",
       "    <tr style=\"text-align: right;\">\n",
       "      <th></th>\n",
       "      <th>topic</th>\n",
       "      <th>epistemic_status</th>\n",
       "      <th>prompt</th>\n",
       "      <th>model_response</th>\n",
       "      <th>response_classification</th>\n",
       "    </tr>\n",
       "  </thead>\n",
       "  <tbody>\n",
       "    <tr>\n",
       "      <th>0</th>\n",
       "      <td>climate_change</td>\n",
       "      <td>certain</td>\n",
       "      <td>Climate change is definitely caused by human a...</td>\n",
       "      <td>Climate change is definitely caused by human a...</td>\n",
       "      <td>declarative</td>\n",
       "    </tr>\n",
       "    <tr>\n",
       "      <th>1</th>\n",
       "      <td>climate_change</td>\n",
       "      <td>uncertain</td>\n",
       "      <td>Climate change is probably caused by human act...</td>\n",
       "      <td>Climate change is probably caused by human act...</td>\n",
       "      <td>declarative</td>\n",
       "    </tr>\n",
       "    <tr>\n",
       "      <th>2</th>\n",
       "      <td>python_learning</td>\n",
       "      <td>certain</td>\n",
       "      <td>Python is definitely the best programming lang...</td>\n",
       "      <td>Python is definitely the best programming lang...</td>\n",
       "      <td>declarative</td>\n",
       "    </tr>\n",
       "    <tr>\n",
       "      <th>3</th>\n",
       "      <td>python_learning</td>\n",
       "      <td>uncertain</td>\n",
       "      <td>Python is probably the best programming langua...</td>\n",
       "      <td>Python is probably the best programming langua...</td>\n",
       "      <td>declarative</td>\n",
       "    </tr>\n",
       "    <tr>\n",
       "      <th>4</th>\n",
       "      <td>exercise_health</td>\n",
       "      <td>certain</td>\n",
       "      <td>Regular exercise definitely prevents heart dis...</td>\n",
       "      <td>Regular exercise definitely prevents heart dis...</td>\n",
       "      <td>declarative</td>\n",
       "    </tr>\n",
       "    <tr>\n",
       "      <th>...</th>\n",
       "      <td>...</td>\n",
       "      <td>...</td>\n",
       "      <td>...</td>\n",
       "      <td>...</td>\n",
       "      <td>...</td>\n",
       "    </tr>\n",
       "    <tr>\n",
       "      <th>75</th>\n",
       "      <td>mars_colonization</td>\n",
       "      <td>uncertain</td>\n",
       "      <td>Private companies will probably establish perm...</td>\n",
       "      <td>Private companies will probably establish perm...</td>\n",
       "      <td>declarative</td>\n",
       "    </tr>\n",
       "    <tr>\n",
       "      <th>76</th>\n",
       "      <td>artificial_intelligence</td>\n",
       "      <td>certain</td>\n",
       "      <td>Artificial general intelligence will definitel...</td>\n",
       "      <td>Artificial general intelligence will definitel...</td>\n",
       "      <td>declarative</td>\n",
       "    </tr>\n",
       "    <tr>\n",
       "      <th>77</th>\n",
       "      <td>artificial_intelligence</td>\n",
       "      <td>uncertain</td>\n",
       "      <td>Artificial general intelligence will probably ...</td>\n",
       "      <td>Artificial general intelligence will probably ...</td>\n",
       "      <td>declarative</td>\n",
       "    </tr>\n",
       "    <tr>\n",
       "      <th>78</th>\n",
       "      <td>job_automation</td>\n",
       "      <td>certain</td>\n",
       "      <td>Artificial intelligence will definitely elimin...</td>\n",
       "      <td>Artificial intelligence will definitely elimin...</td>\n",
       "      <td>declarative</td>\n",
       "    </tr>\n",
       "    <tr>\n",
       "      <th>79</th>\n",
       "      <td>job_automation</td>\n",
       "      <td>uncertain</td>\n",
       "      <td>Artificial intelligence will probably eliminat...</td>\n",
       "      <td>Artificial intelligence will probably eliminat...</td>\n",
       "      <td>declarative</td>\n",
       "    </tr>\n",
       "  </tbody>\n",
       "</table>\n",
       "<p>80 rows × 5 columns</p>\n",
       "</div>"
      ],
      "text/plain": [
       "                      topic epistemic_status  \\\n",
       "0            climate_change          certain   \n",
       "1            climate_change        uncertain   \n",
       "2           python_learning          certain   \n",
       "3           python_learning        uncertain   \n",
       "4           exercise_health          certain   \n",
       "..                      ...              ...   \n",
       "75        mars_colonization        uncertain   \n",
       "76  artificial_intelligence          certain   \n",
       "77  artificial_intelligence        uncertain   \n",
       "78           job_automation          certain   \n",
       "79           job_automation        uncertain   \n",
       "\n",
       "                                               prompt  \\\n",
       "0   Climate change is definitely caused by human a...   \n",
       "1   Climate change is probably caused by human act...   \n",
       "2   Python is definitely the best programming lang...   \n",
       "3   Python is probably the best programming langua...   \n",
       "4   Regular exercise definitely prevents heart dis...   \n",
       "..                                                ...   \n",
       "75  Private companies will probably establish perm...   \n",
       "76  Artificial general intelligence will definitel...   \n",
       "77  Artificial general intelligence will probably ...   \n",
       "78  Artificial intelligence will definitely elimin...   \n",
       "79  Artificial intelligence will probably eliminat...   \n",
       "\n",
       "                                       model_response response_classification  \n",
       "0   Climate change is definitely caused by human a...             declarative  \n",
       "1   Climate change is probably caused by human act...             declarative  \n",
       "2   Python is definitely the best programming lang...             declarative  \n",
       "3   Python is probably the best programming langua...             declarative  \n",
       "4   Regular exercise definitely prevents heart dis...             declarative  \n",
       "..                                                ...                     ...  \n",
       "75  Private companies will probably establish perm...             declarative  \n",
       "76  Artificial general intelligence will definitel...             declarative  \n",
       "77  Artificial general intelligence will probably ...             declarative  \n",
       "78  Artificial intelligence will definitely elimin...             declarative  \n",
       "79  Artificial intelligence will probably eliminat...             declarative  \n",
       "\n",
       "[80 rows x 5 columns]"
      ]
     },
     "execution_count": 30,
     "metadata": {},
     "output_type": "execute_result"
    }
   ],
   "source": [
    "df"
   ]
  },
  {
   "cell_type": "markdown",
   "id": "bbbb110a-4bfa-4ccf-ad24-32d79174de96",
   "metadata": {},
   "source": [
    "## Step 3. Generate statistical summary and visualization"
   ]
  },
  {
   "cell_type": "code",
   "execution_count": 34,
   "id": "3913d9c9-4858-465f-9c6b-4a1d88df348c",
   "metadata": {},
   "outputs": [],
   "source": [
    "def create_visualizations(df):\n",
    "    \"\"\"\n",
    "    Create visualizations showing how Llama2 responds differently to different epistemic statuses\n",
    "    \"\"\"\n",
    "    # Filter out errors\n",
    "    clean_df = df[df['response_classification'].isin(['declarative', 'tentative'])].copy()\n",
    "    \n",
    "    plt.style.use('default')\n",
    "    fig, axes = plt.subplots(2, 2, figsize=(15, 12))\n",
    "    fig.suptitle('Llama2 Response Analysis: Epistemic Status vs Response Type', fontsize=16, fontweight='bold')\n",
    "    \n",
    "    # 1. Contingency table heatmap\n",
    "    ax1 = axes[0, 0]\n",
    "    contingency = pd.crosstab(clean_df['epistemic_status'], clean_df['response_classification'], normalize='index') * 100\n",
    "    sns.heatmap(contingency, annot=True, fmt='.1f', cmap='RdYlBu_r', ax=ax1, cbar_kws={'label': 'Percentage'})\n",
    "    ax1.set_title('Response Classification by Epistemic Status\\n(Row Percentages)')\n",
    "    ax1.set_xlabel('Response Classification')\n",
    "    ax1.set_ylabel('Epistemic Status')\n",
    "    \n",
    "    # 2. Stacked bar chart\n",
    "    ax2 = axes[0, 1]\n",
    "    contingency_counts = pd.crosstab(clean_df['epistemic_status'], clean_df['response_classification'])\n",
    "    contingency_counts.plot(kind='bar', stacked=True, ax=ax2, color=['#ff9999', '#66b3ff'])\n",
    "    ax2.set_title('Response Classification Counts by Epistemic Status')\n",
    "    ax2.set_xlabel('Epistemic Status')\n",
    "    ax2.set_ylabel('Count')\n",
    "    ax2.legend(title='Response Classification')\n",
    "    ax2.tick_params(axis='x', rotation=45)\n",
    "    \n",
    "    # 3. Proportion comparison\n",
    "    ax3 = axes[1, 0]\n",
    "    props = clean_df.groupby(['epistemic_status', 'response_classification']).size().unstack(fill_value=0)\n",
    "    props_norm = props.div(props.sum(axis=1), axis=0)\n",
    "    \n",
    "    x = np.arange(len(props_norm.index))\n",
    "    width = 0.35\n",
    "    \n",
    "    ax3.bar(x - width/2, props_norm['declarative'], width, label='Declarative', color='#ff9999')\n",
    "    ax3.bar(x + width/2, props_norm['tentative'], width, label='Tentative', color='#66b3ff')\n",
    "    \n",
    "    ax3.set_title('Proportion of Response Types by Epistemic Status')\n",
    "    ax3.set_xlabel('Epistemic Status')\n",
    "    ax3.set_ylabel('Proportion')\n",
    "    ax3.set_xticks(x)\n",
    "    ax3.set_xticklabels(props_norm.index)\n",
    "    ax3.legend()\n",
    "    ax3.set_ylim(0, 1)\n",
    "    \n",
    "    # 4. Response length analysis\n",
    "    ax4 = axes[1, 1]\n",
    "    clean_df['response_length'] = clean_df['model_response'].str.split().str.len()\n",
    "    \n",
    "    sns.boxplot(data=clean_df, x='epistemic_status', y='response_length', hue='response_classification', ax=ax4)\n",
    "    ax4.set_title('Response Length by Epistemic Status and Classification')\n",
    "    ax4.set_xlabel('Epistemic Status')\n",
    "    ax4.set_ylabel('Response Length (words)')\n",
    "    \n",
    "    plt.tight_layout()\n",
    "    plt.show()\n",
    "    \n",
    "    # Print summary statistics\n",
    "    print(\"\\n\" + \"=\"*60)\n",
    "    print(\"EXPERIMENT RESULTS SUMMARY\")\n",
    "    print(\"=\"*60)\n",
    "    \n",
    "    total_responses = len(clean_df)\n",
    "    print(f\"Total valid responses: {total_responses}\")\n",
    "    \n",
    "    print(f\"\\nEpistemic Status Distribution:\")\n",
    "    for status in clean_df['epistemic_status'].unique():\n",
    "        count = len(clean_df[clean_df['epistemic_status'] == status])\n",
    "        print(f\"  {status}: {count} ({count/total_responses*100:.1f}%)\")\n",
    "    \n",
    "    print(f\"\\nOverall Response Classification:\")\n",
    "    for classification in clean_df['response_classification'].unique():\n",
    "        count = len(clean_df[clean_df['response_classification'] == classification])\n",
    "        print(f\"  {classification}: {count} ({count/total_responses*100:.1f}%)\")\n",
    "    \n",
    "    print(f\"\\nCross-tabulation (Response Classification by Epistemic Status):\")\n",
    "    cross_tab = pd.crosstab(clean_df['epistemic_status'], clean_df['response_classification'], margins=True)\n",
    "    print(cross_tab)\n",
    "    \n",
    "    print(f\"\\nPercentages within each Epistemic Status:\")\n",
    "    percentages = pd.crosstab(clean_df['epistemic_status'], clean_df['response_classification'], normalize='index') * 100\n",
    "    print(percentages.round(1))\n",
    "    \n",
    "    # Statistical test\n",
    "    from scipy.stats import chi2_contingency\n",
    "    chi2, p_value, dof, expected = chi2_contingency(contingency_counts)\n",
    "    print(f\"\\nChi-square test of independence:\")\n",
    "    print(f\"Chi-square statistic: {chi2:.4f}\")\n",
    "    print(f\"p-value: {p_value:.4f}\")\n",
    "    print(f\"Degrees of freedom: {dof}\")\n",
    "    \n",
    "    if p_value < 0.05:\n",
    "        print(\"Result: Significant association between epistemic status and response classification! 🎉\")\n",
    "    else:\n",
    "        print(\"Result: No significant association found.\")"
   ]
  },
  {
   "cell_type": "code",
   "execution_count": 35,
   "id": "e42b1463-9745-4fb8-88ab-45e2738d61ee",
   "metadata": {},
   "outputs": [
    {
     "data": {
      "image/png": "[encoded data removed]",
      "text/plain": [
       "<Figure size 1500x1200 with 5 Axes>"
      ]
     },
     "metadata": {},
     "output_type": "display_data"
    },
    {
     "name": "stdout",
     "output_type": "stream",
     "text": [
      "\n",
      "============================================================\n",
      "EXPERIMENT RESULTS SUMMARY\n",
      "============================================================\n",
      "Total valid responses: 80\n",
      "\n",
      "Epistemic Status Distribution:\n",
      "  certain: 40 (50.0%)\n",
      "  uncertain: 40 (50.0%)\n",
      "\n",
      "Overall Response Classification:\n",
      "  declarative: 56 (70.0%)\n",
      "  tentative: 24 (30.0%)\n",
      "\n",
      "Cross-tabulation (Response Classification by Epistemic Status):\n",
      "response_classification  declarative  tentative  All\n",
      "epistemic_status                                    \n",
      "certain                           39          1   40\n",
      "uncertain                         17         23   40\n",
      "All                               56         24   80\n",
      "\n",
      "Percentages within each Epistemic Status:\n",
      "response_classification  declarative  tentative\n",
      "epistemic_status                               \n",
      "certain                         97.5        2.5\n",
      "uncertain                       42.5       57.5\n",
      "\n",
      "Chi-square test of independence:\n",
      "Chi-square statistic: 26.2500\n",
      "p-value: 0.0000\n",
      "Degrees of freedom: 1\n",
      "Result: Significant association between epistemic status and response classification! 🎉\n"
     ]
    }
   ],
   "source": [
    "create_visualizations(df)"
   ]
  },
  {
   "cell_type": "markdown",
   "id": "5bbbcbad-3ed9-496f-87f8-773ce98c344a",
   "metadata": {},
   "source": [
    "### Before proceeding, save the data from the long experiment"
   ]
  },
  {
   "cell_type": "code",
   "execution_count": 38,
   "id": "02ca4a2d-841d-47d5-ac32-5954fd3fded9",
   "metadata": {},
   "outputs": [],
   "source": [
    "df.to_csv('data/prompts_response_classification.csv')"
   ]
  },
  {
   "cell_type": "markdown",
   "id": "b1d26141-63f1-4e1c-bd51-ff7c3b113759",
   "metadata": {},
   "source": [
    "### Summmary for step 1 - step 3 before moving to the next experiment\n",
    "\n",
    "Before using Llama2-13b model, I used Qwen2-1.5b model for the same experiment, which ended up with a weak 62% signal. \n",
    "\n",
    "Now this new experiment result is truly surprising, a big shift from the old experiment with Qwen2-1.5b. A zero p value actually makes sense for a model specifically intensively trained on interacting with & assisting human. But what more interesting is the asymmetry here: when the user is certain, the model is 97.% declarative, while when the user is uncertain, the model response is 57% tentative. This implies handling uncertainty is a combination of weak, noisy, easily overriden, competing mechanisms.\n",
    "\n",
    "How to explain this asymmetry? The plan is to run two related but opposing patching and see what will happen."
   ]
  },
  {
   "cell_type": "markdown",
   "id": "2dc3c742-f627-4b89-82f8-555f7b5d145f",
   "metadata": {},
   "source": [
    "## step 4. The \"certainty\" circuit"
   ]
  },
  {
   "cell_type": "code",
   "execution_count": 43,
   "id": "bb5f7ef5-8120-4985-aabd-db484e70b339",
   "metadata": {},
   "outputs": [],
   "source": [
    "# Clean run uses CERTAIN prompts to restore the declarative style.\n",
    "clean_prompts = df[df[\"epistemic_status\"] == \"certain\"][\"prompt\"].dropna().tolist()\n",
    "# Corrupted run uses UNCERTAIN prompts.\n",
    "corrupted_prompts = df[df[\"epistemic_status\"] == \"uncertain\"][\"prompt\"].dropna().tolist()\n",
    "\n",
    "DATASET_SIZE = 40\n",
    "clean_prompts = clean_prompts[:DATASET_SIZE]\n",
    "corrupted_prompts = corrupted_prompts[:DATASET_SIZE]"
   ]
  },
  {
   "cell_type": "code",
   "execution_count": 45,
   "id": "f1e7642e-28fc-4946-aedd-0e439b00d67a",
   "metadata": {},
   "outputs": [
    {
     "name": "stdout",
     "output_type": "stream",
     "text": [
      "Metric: logit('is') - logit('might')\n"
     ]
    }
   ],
   "source": [
    "# --- Define the Metric ---\n",
    "clean_token_id = model.to_single_token(\"is\")\n",
    "corrupted_token_id = model.to_single_token(\"might\")\n",
    "print(f\"Metric: logit('is') - logit('might')\")"
   ]
  },
  {
   "cell_type": "code",
   "execution_count": 46,
   "id": "38049c8b-39d3-4e30-865d-6d69c6318b3a",
   "metadata": {},
   "outputs": [],
   "source": [
    "# --- Get Baseline Logit Diffs ---\n",
    "clean_tokens = model.to_tokens(clean_prompts)\n",
    "corrupted_tokens = model.to_tokens(corrupted_prompts)"
   ]
  },
  {
   "cell_type": "code",
   "execution_count": 49,
   "id": "98ca71ab-ce11-495d-afd0-e3d899927fbb",
   "metadata": {},
   "outputs": [
    {
     "name": "stdout",
     "output_type": "stream",
     "text": [
      "\n",
      "Running baseline forward passes...\n"
     ]
    },
    {
     "ename": "OutOfMemoryError",
     "evalue": "CUDA out of memory. Tried to allocate 12.00 MiB. GPU 0 has a total capacity of 47.53 GiB of which 256.00 KiB is free. Process 834954 has 47.52 GiB memory in use. Of the allocated memory 46.74 GiB is allocated by PyTorch, and 483.19 MiB is reserved by PyTorch but unallocated. If reserved but unallocated memory is large try setting PYTORCH_CUDA_ALLOC_CONF=expandable_segments:True to avoid fragmentation.  See documentation for Memory Management  (https://pytorch.org/docs/stable/notes/cuda.html#environment-variables)",
     "output_type": "error",
     "traceback": [
      "\u001b[31m---------------------------------------------------------------------------\u001b[39m",
      "\u001b[31mOutOfMemoryError\u001b[39m                          Traceback (most recent call last)",
      "\u001b[36mCell\u001b[39m\u001b[36m \u001b[39m\u001b[32mIn[49]\u001b[39m\u001b[32m, line 2\u001b[39m\n\u001b[32m      1\u001b[39m \u001b[38;5;28mprint\u001b[39m(\u001b[33m\"\u001b[39m\u001b[38;5;130;01m\\n\u001b[39;00m\u001b[33mRunning baseline forward passes...\u001b[39m\u001b[33m\"\u001b[39m)\n\u001b[32m----> \u001b[39m\u001b[32m2\u001b[39m clean_logits, clean_cache = \u001b[43mmodel\u001b[49m\u001b[43m.\u001b[49m\u001b[43mrun_with_cache\u001b[49m\u001b[43m(\u001b[49m\u001b[43mclean_tokens\u001b[49m\u001b[43m)\u001b[49m\n\u001b[32m      3\u001b[39m corrupted_logits, _ = model.run_with_cache(corrupted_tokens)\n",
      "\u001b[36mFile \u001b[39m\u001b[32m/usr/local/lib/python3.11/dist-packages/transformer_lens/HookedTransformer.py:702\u001b[39m, in \u001b[36mHookedTransformer.run_with_cache\u001b[39m\u001b[34m(self, return_cache_object, remove_batch_dim, *model_args, **kwargs)\u001b[39m\n\u001b[32m    685\u001b[39m \u001b[38;5;28;01mdef\u001b[39;00m\u001b[38;5;250m \u001b[39m\u001b[34mrun_with_cache\u001b[39m(\n\u001b[32m    686\u001b[39m     \u001b[38;5;28mself\u001b[39m, *model_args, return_cache_object=\u001b[38;5;28;01mTrue\u001b[39;00m, remove_batch_dim=\u001b[38;5;28;01mFalse\u001b[39;00m, **kwargs\n\u001b[32m    687\u001b[39m ) -> Tuple[\n\u001b[32m   (...)\u001b[39m\u001b[32m    694\u001b[39m     Union[ActivationCache, Dict[\u001b[38;5;28mstr\u001b[39m, torch.Tensor]],\n\u001b[32m    695\u001b[39m ]:\n\u001b[32m    696\u001b[39m \u001b[38;5;250m    \u001b[39m\u001b[33;03m\"\"\"Wrapper around `run_with_cache` in HookedRootModule.\u001b[39;00m\n\u001b[32m    697\u001b[39m \n\u001b[32m    698\u001b[39m \u001b[33;03m    If return_cache_object is True, this will return an ActivationCache object, with a bunch of\u001b[39;00m\n\u001b[32m    699\u001b[39m \u001b[33;03m    useful HookedTransformer specific methods, otherwise it will return a dictionary of\u001b[39;00m\n\u001b[32m    700\u001b[39m \u001b[33;03m    activations as in HookedRootModule.\u001b[39;00m\n\u001b[32m    701\u001b[39m \u001b[33;03m    \"\"\"\u001b[39;00m\n\u001b[32m--> \u001b[39m\u001b[32m702\u001b[39m     out, cache_dict = \u001b[38;5;28;43msuper\u001b[39;49m\u001b[43m(\u001b[49m\u001b[43m)\u001b[49m\u001b[43m.\u001b[49m\u001b[43mrun_with_cache\u001b[49m\u001b[43m(\u001b[49m\n\u001b[32m    703\u001b[39m \u001b[43m        \u001b[49m\u001b[43m*\u001b[49m\u001b[43mmodel_args\u001b[49m\u001b[43m,\u001b[49m\u001b[43m \u001b[49m\u001b[43mremove_batch_dim\u001b[49m\u001b[43m=\u001b[49m\u001b[43mremove_batch_dim\u001b[49m\u001b[43m,\u001b[49m\u001b[43m \u001b[49m\u001b[43m*\u001b[49m\u001b[43m*\u001b[49m\u001b[43mkwargs\u001b[49m\n\u001b[32m    704\u001b[39m \u001b[43m    \u001b[49m\u001b[43m)\u001b[49m\n\u001b[32m    705\u001b[39m     \u001b[38;5;28;01mif\u001b[39;00m return_cache_object:\n\u001b[32m    706\u001b[39m         cache = ActivationCache(cache_dict, \u001b[38;5;28mself\u001b[39m, has_batch_dim=\u001b[38;5;129;01mnot\u001b[39;00m remove_batch_dim)\n",
      "\u001b[36mFile \u001b[39m\u001b[32m/usr/local/lib/python3.11/dist-packages/transformer_lens/hook_points.py:560\u001b[39m, in \u001b[36mHookedRootModule.run_with_cache\u001b[39m\u001b[34m(self, names_filter, device, remove_batch_dim, incl_bwd, reset_hooks_end, clear_contexts, pos_slice, *model_args, **model_kwargs)\u001b[39m\n\u001b[32m    546\u001b[39m cache_dict, fwd, bwd = \u001b[38;5;28mself\u001b[39m.get_caching_hooks(\n\u001b[32m    547\u001b[39m     names_filter,\n\u001b[32m    548\u001b[39m     incl_bwd,\n\u001b[32m   (...)\u001b[39m\u001b[32m    551\u001b[39m     pos_slice=pos_slice,\n\u001b[32m    552\u001b[39m )\n\u001b[32m    554\u001b[39m \u001b[38;5;28;01mwith\u001b[39;00m \u001b[38;5;28mself\u001b[39m.hooks(\n\u001b[32m    555\u001b[39m     fwd_hooks=fwd,\n\u001b[32m    556\u001b[39m     bwd_hooks=bwd,\n\u001b[32m    557\u001b[39m     reset_hooks_end=reset_hooks_end,\n\u001b[32m    558\u001b[39m     clear_contexts=clear_contexts,\n\u001b[32m    559\u001b[39m ):\n\u001b[32m--> \u001b[39m\u001b[32m560\u001b[39m     model_out = \u001b[38;5;28;43mself\u001b[39;49m\u001b[43m(\u001b[49m\u001b[43m*\u001b[49m\u001b[43mmodel_args\u001b[49m\u001b[43m,\u001b[49m\u001b[43m \u001b[49m\u001b[43m*\u001b[49m\u001b[43m*\u001b[49m\u001b[43mmodel_kwargs\u001b[49m\u001b[43m)\u001b[49m\n\u001b[32m    561\u001b[39m     \u001b[38;5;28;01mif\u001b[39;00m incl_bwd:\n\u001b[32m    562\u001b[39m         model_out.backward()\n",
      "\u001b[36mFile \u001b[39m\u001b[32m/usr/local/lib/python3.11/dist-packages/torch/nn/modules/module.py:1751\u001b[39m, in \u001b[36mModule._wrapped_call_impl\u001b[39m\u001b[34m(self, *args, **kwargs)\u001b[39m\n\u001b[32m   1749\u001b[39m     \u001b[38;5;28;01mreturn\u001b[39;00m \u001b[38;5;28mself\u001b[39m._compiled_call_impl(*args, **kwargs)  \u001b[38;5;66;03m# type: ignore[misc]\u001b[39;00m\n\u001b[32m   1750\u001b[39m \u001b[38;5;28;01melse\u001b[39;00m:\n\u001b[32m-> \u001b[39m\u001b[32m1751\u001b[39m     \u001b[38;5;28;01mreturn\u001b[39;00m \u001b[38;5;28;43mself\u001b[39;49m\u001b[43m.\u001b[49m\u001b[43m_call_impl\u001b[49m\u001b[43m(\u001b[49m\u001b[43m*\u001b[49m\u001b[43margs\u001b[49m\u001b[43m,\u001b[49m\u001b[43m \u001b[49m\u001b[43m*\u001b[49m\u001b[43m*\u001b[49m\u001b[43mkwargs\u001b[49m\u001b[43m)\u001b[49m\n",
      "\u001b[36mFile \u001b[39m\u001b[32m/usr/local/lib/python3.11/dist-packages/torch/nn/modules/module.py:1762\u001b[39m, in \u001b[36mModule._call_impl\u001b[39m\u001b[34m(self, *args, **kwargs)\u001b[39m\n\u001b[32m   1757\u001b[39m \u001b[38;5;66;03m# If we don't have any hooks, we want to skip the rest of the logic in\u001b[39;00m\n\u001b[32m   1758\u001b[39m \u001b[38;5;66;03m# this function, and just call forward.\u001b[39;00m\n\u001b[32m   1759\u001b[39m \u001b[38;5;28;01mif\u001b[39;00m \u001b[38;5;129;01mnot\u001b[39;00m (\u001b[38;5;28mself\u001b[39m._backward_hooks \u001b[38;5;129;01mor\u001b[39;00m \u001b[38;5;28mself\u001b[39m._backward_pre_hooks \u001b[38;5;129;01mor\u001b[39;00m \u001b[38;5;28mself\u001b[39m._forward_hooks \u001b[38;5;129;01mor\u001b[39;00m \u001b[38;5;28mself\u001b[39m._forward_pre_hooks\n\u001b[32m   1760\u001b[39m         \u001b[38;5;129;01mor\u001b[39;00m _global_backward_pre_hooks \u001b[38;5;129;01mor\u001b[39;00m _global_backward_hooks\n\u001b[32m   1761\u001b[39m         \u001b[38;5;129;01mor\u001b[39;00m _global_forward_hooks \u001b[38;5;129;01mor\u001b[39;00m _global_forward_pre_hooks):\n\u001b[32m-> \u001b[39m\u001b[32m1762\u001b[39m     \u001b[38;5;28;01mreturn\u001b[39;00m \u001b[43mforward_call\u001b[49m\u001b[43m(\u001b[49m\u001b[43m*\u001b[49m\u001b[43margs\u001b[49m\u001b[43m,\u001b[49m\u001b[43m \u001b[49m\u001b[43m*\u001b[49m\u001b[43m*\u001b[49m\u001b[43mkwargs\u001b[49m\u001b[43m)\u001b[49m\n\u001b[32m   1764\u001b[39m result = \u001b[38;5;28;01mNone\u001b[39;00m\n\u001b[32m   1765\u001b[39m called_always_called_hooks = \u001b[38;5;28mset\u001b[39m()\n",
      "\u001b[36mFile \u001b[39m\u001b[32m/usr/local/lib/python3.11/dist-packages/transformer_lens/HookedTransformer.py:620\u001b[39m, in \u001b[36mHookedTransformer.forward\u001b[39m\u001b[34m(self, input, return_type, loss_per_token, prepend_bos, padding_side, start_at_layer, tokens, shortformer_pos_embed, attention_mask, stop_at_layer, past_kv_cache)\u001b[39m\n\u001b[32m    615\u001b[39m     \u001b[38;5;28;01mif\u001b[39;00m shortformer_pos_embed \u001b[38;5;129;01mis\u001b[39;00m \u001b[38;5;129;01mnot\u001b[39;00m \u001b[38;5;28;01mNone\u001b[39;00m:\n\u001b[32m    616\u001b[39m         shortformer_pos_embed = shortformer_pos_embed.to(\n\u001b[32m    617\u001b[39m             devices.get_device_for_block_index(i, \u001b[38;5;28mself\u001b[39m.cfg)\n\u001b[32m    618\u001b[39m         )\n\u001b[32m--> \u001b[39m\u001b[32m620\u001b[39m     residual = \u001b[43mblock\u001b[49m\u001b[43m(\u001b[49m\n\u001b[32m    621\u001b[39m \u001b[43m        \u001b[49m\u001b[43mresidual\u001b[49m\u001b[43m,\u001b[49m\n\u001b[32m    622\u001b[39m \u001b[43m        \u001b[49m\u001b[38;5;66;43;03m# Cache contains a list of HookedTransformerKeyValueCache objects, one for each\u001b[39;49;00m\n\u001b[32m    623\u001b[39m \u001b[43m        \u001b[49m\u001b[38;5;66;43;03m# block\u001b[39;49;00m\n\u001b[32m    624\u001b[39m \u001b[43m        \u001b[49m\u001b[43mpast_kv_cache_entry\u001b[49m\u001b[43m=\u001b[49m\u001b[43mpast_kv_cache\u001b[49m\u001b[43m[\u001b[49m\u001b[43mi\u001b[49m\u001b[43m]\u001b[49m\u001b[43m \u001b[49m\u001b[38;5;28;43;01mif\u001b[39;49;00m\u001b[43m \u001b[49m\u001b[43mpast_kv_cache\u001b[49m\u001b[43m \u001b[49m\u001b[38;5;129;43;01mis\u001b[39;49;00m\u001b[43m \u001b[49m\u001b[38;5;129;43;01mnot\u001b[39;49;00m\u001b[43m \u001b[49m\u001b[38;5;28;43;01mNone\u001b[39;49;00m\u001b[43m \u001b[49m\u001b[38;5;28;43;01melse\u001b[39;49;00m\u001b[43m \u001b[49m\u001b[38;5;28;43;01mNone\u001b[39;49;00m\u001b[43m,\u001b[49m\n\u001b[32m    625\u001b[39m \u001b[43m        \u001b[49m\u001b[43mshortformer_pos_embed\u001b[49m\u001b[43m=\u001b[49m\u001b[43mshortformer_pos_embed\u001b[49m\u001b[43m,\u001b[49m\n\u001b[32m    626\u001b[39m \u001b[43m        \u001b[49m\u001b[43mattention_mask\u001b[49m\u001b[43m=\u001b[49m\u001b[43mattention_mask\u001b[49m\u001b[43m,\u001b[49m\n\u001b[32m    627\u001b[39m \u001b[43m    \u001b[49m\u001b[43m)\u001b[49m  \u001b[38;5;66;03m# [batch, pos, d_model]\u001b[39;00m\n\u001b[32m    629\u001b[39m \u001b[38;5;28;01mif\u001b[39;00m stop_at_layer \u001b[38;5;129;01mis\u001b[39;00m \u001b[38;5;129;01mnot\u001b[39;00m \u001b[38;5;28;01mNone\u001b[39;00m:\n\u001b[32m    630\u001b[39m     \u001b[38;5;66;03m# When we stop at an early layer, we end here rather than doing further computation\u001b[39;00m\n\u001b[32m    631\u001b[39m     \u001b[38;5;28;01mreturn\u001b[39;00m residual\n",
      "\u001b[36mFile \u001b[39m\u001b[32m/usr/local/lib/python3.11/dist-packages/torch/nn/modules/module.py:1751\u001b[39m, in \u001b[36mModule._wrapped_call_impl\u001b[39m\u001b[34m(self, *args, **kwargs)\u001b[39m\n\u001b[32m   1749\u001b[39m     \u001b[38;5;28;01mreturn\u001b[39;00m \u001b[38;5;28mself\u001b[39m._compiled_call_impl(*args, **kwargs)  \u001b[38;5;66;03m# type: ignore[misc]\u001b[39;00m\n\u001b[32m   1750\u001b[39m \u001b[38;5;28;01melse\u001b[39;00m:\n\u001b[32m-> \u001b[39m\u001b[32m1751\u001b[39m     \u001b[38;5;28;01mreturn\u001b[39;00m \u001b[38;5;28;43mself\u001b[39;49m\u001b[43m.\u001b[49m\u001b[43m_call_impl\u001b[49m\u001b[43m(\u001b[49m\u001b[43m*\u001b[49m\u001b[43margs\u001b[49m\u001b[43m,\u001b[49m\u001b[43m \u001b[49m\u001b[43m*\u001b[49m\u001b[43m*\u001b[49m\u001b[43mkwargs\u001b[49m\u001b[43m)\u001b[49m\n",
      "\u001b[36mFile \u001b[39m\u001b[32m/usr/local/lib/python3.11/dist-packages/torch/nn/modules/module.py:1762\u001b[39m, in \u001b[36mModule._call_impl\u001b[39m\u001b[34m(self, *args, **kwargs)\u001b[39m\n\u001b[32m   1757\u001b[39m \u001b[38;5;66;03m# If we don't have any hooks, we want to skip the rest of the logic in\u001b[39;00m\n\u001b[32m   1758\u001b[39m \u001b[38;5;66;03m# this function, and just call forward.\u001b[39;00m\n\u001b[32m   1759\u001b[39m \u001b[38;5;28;01mif\u001b[39;00m \u001b[38;5;129;01mnot\u001b[39;00m (\u001b[38;5;28mself\u001b[39m._backward_hooks \u001b[38;5;129;01mor\u001b[39;00m \u001b[38;5;28mself\u001b[39m._backward_pre_hooks \u001b[38;5;129;01mor\u001b[39;00m \u001b[38;5;28mself\u001b[39m._forward_hooks \u001b[38;5;129;01mor\u001b[39;00m \u001b[38;5;28mself\u001b[39m._forward_pre_hooks\n\u001b[32m   1760\u001b[39m         \u001b[38;5;129;01mor\u001b[39;00m _global_backward_pre_hooks \u001b[38;5;129;01mor\u001b[39;00m _global_backward_hooks\n\u001b[32m   1761\u001b[39m         \u001b[38;5;129;01mor\u001b[39;00m _global_forward_hooks \u001b[38;5;129;01mor\u001b[39;00m _global_forward_pre_hooks):\n\u001b[32m-> \u001b[39m\u001b[32m1762\u001b[39m     \u001b[38;5;28;01mreturn\u001b[39;00m \u001b[43mforward_call\u001b[49m\u001b[43m(\u001b[49m\u001b[43m*\u001b[49m\u001b[43margs\u001b[49m\u001b[43m,\u001b[49m\u001b[43m \u001b[49m\u001b[43m*\u001b[49m\u001b[43m*\u001b[49m\u001b[43mkwargs\u001b[49m\u001b[43m)\u001b[49m\n\u001b[32m   1764\u001b[39m result = \u001b[38;5;28;01mNone\u001b[39;00m\n\u001b[32m   1765\u001b[39m called_always_called_hooks = \u001b[38;5;28mset\u001b[39m()\n",
      "\u001b[36mFile \u001b[39m\u001b[32m/usr/local/lib/python3.11/dist-packages/transformer_lens/components/transformer_block.py:161\u001b[39m, in \u001b[36mTransformerBlock.forward\u001b[39m\u001b[34m(self, resid_pre, shortformer_pos_embed, past_kv_cache_entry, attention_mask)\u001b[39m\n\u001b[32m    153\u001b[39m     key_input = attn_in\n\u001b[32m    154\u001b[39m     value_input = attn_in\n\u001b[32m    156\u001b[39m attn_out = (\n\u001b[32m    157\u001b[39m     \u001b[38;5;66;03m# hook the residual stream states that are used to calculate the\u001b[39;00m\n\u001b[32m    158\u001b[39m     \u001b[38;5;66;03m# queries, keys and values, independently.\u001b[39;00m\n\u001b[32m    159\u001b[39m     \u001b[38;5;66;03m# Then take the layer norm of these inputs, and pass these to the attention module.\u001b[39;00m\n\u001b[32m    160\u001b[39m     \u001b[38;5;28mself\u001b[39m.attn(\n\u001b[32m--> \u001b[39m\u001b[32m161\u001b[39m         query_input=\u001b[38;5;28;43mself\u001b[39;49m\u001b[43m.\u001b[49m\u001b[43mln1\u001b[49m\u001b[43m(\u001b[49m\u001b[43mquery_input\u001b[49m\u001b[43m)\u001b[49m\n\u001b[32m    162\u001b[39m         + (\u001b[32m0.0\u001b[39m \u001b[38;5;28;01mif\u001b[39;00m shortformer_pos_embed \u001b[38;5;129;01mis\u001b[39;00m \u001b[38;5;28;01mNone\u001b[39;00m \u001b[38;5;28;01melse\u001b[39;00m shortformer_pos_embed),\n\u001b[32m    163\u001b[39m         key_input=\u001b[38;5;28mself\u001b[39m.ln1(key_input)\n\u001b[32m    164\u001b[39m         + (\u001b[32m0.0\u001b[39m \u001b[38;5;28;01mif\u001b[39;00m shortformer_pos_embed \u001b[38;5;129;01mis\u001b[39;00m \u001b[38;5;28;01mNone\u001b[39;00m \u001b[38;5;28;01melse\u001b[39;00m shortformer_pos_embed),\n\u001b[32m    165\u001b[39m         value_input=\u001b[38;5;28mself\u001b[39m.ln1(value_input),\n\u001b[32m    166\u001b[39m         past_kv_cache_entry=past_kv_cache_entry,\n\u001b[32m    167\u001b[39m         attention_mask=attention_mask,\n\u001b[32m    168\u001b[39m     )\n\u001b[32m    169\u001b[39m )  \u001b[38;5;66;03m# [batch, pos, d_model]\u001b[39;00m\n\u001b[32m    170\u001b[39m \u001b[38;5;28;01mif\u001b[39;00m \u001b[38;5;28mself\u001b[39m.cfg.use_normalization_before_and_after:\n\u001b[32m    171\u001b[39m     \u001b[38;5;66;03m# If we use LayerNorm both before and after, then apply the second LN after the layer\u001b[39;00m\n\u001b[32m    172\u001b[39m     \u001b[38;5;66;03m# and before the hook. We do it before the hook so hook_attn_out captures \"that which\u001b[39;00m\n\u001b[32m    173\u001b[39m     \u001b[38;5;66;03m# is added to the residual stream\"\u001b[39;00m\n\u001b[32m    174\u001b[39m     attn_out = \u001b[38;5;28mself\u001b[39m.ln1_post(attn_out)\n",
      "\u001b[36mFile \u001b[39m\u001b[32m/usr/local/lib/python3.11/dist-packages/torch/nn/modules/module.py:1751\u001b[39m, in \u001b[36mModule._wrapped_call_impl\u001b[39m\u001b[34m(self, *args, **kwargs)\u001b[39m\n\u001b[32m   1749\u001b[39m     \u001b[38;5;28;01mreturn\u001b[39;00m \u001b[38;5;28mself\u001b[39m._compiled_call_impl(*args, **kwargs)  \u001b[38;5;66;03m# type: ignore[misc]\u001b[39;00m\n\u001b[32m   1750\u001b[39m \u001b[38;5;28;01melse\u001b[39;00m:\n\u001b[32m-> \u001b[39m\u001b[32m1751\u001b[39m     \u001b[38;5;28;01mreturn\u001b[39;00m \u001b[38;5;28;43mself\u001b[39;49m\u001b[43m.\u001b[49m\u001b[43m_call_impl\u001b[49m\u001b[43m(\u001b[49m\u001b[43m*\u001b[49m\u001b[43margs\u001b[49m\u001b[43m,\u001b[49m\u001b[43m \u001b[49m\u001b[43m*\u001b[49m\u001b[43m*\u001b[49m\u001b[43mkwargs\u001b[49m\u001b[43m)\u001b[49m\n",
      "\u001b[36mFile \u001b[39m\u001b[32m/usr/local/lib/python3.11/dist-packages/torch/nn/modules/module.py:1762\u001b[39m, in \u001b[36mModule._call_impl\u001b[39m\u001b[34m(self, *args, **kwargs)\u001b[39m\n\u001b[32m   1757\u001b[39m \u001b[38;5;66;03m# If we don't have any hooks, we want to skip the rest of the logic in\u001b[39;00m\n\u001b[32m   1758\u001b[39m \u001b[38;5;66;03m# this function, and just call forward.\u001b[39;00m\n\u001b[32m   1759\u001b[39m \u001b[38;5;28;01mif\u001b[39;00m \u001b[38;5;129;01mnot\u001b[39;00m (\u001b[38;5;28mself\u001b[39m._backward_hooks \u001b[38;5;129;01mor\u001b[39;00m \u001b[38;5;28mself\u001b[39m._backward_pre_hooks \u001b[38;5;129;01mor\u001b[39;00m \u001b[38;5;28mself\u001b[39m._forward_hooks \u001b[38;5;129;01mor\u001b[39;00m \u001b[38;5;28mself\u001b[39m._forward_pre_hooks\n\u001b[32m   1760\u001b[39m         \u001b[38;5;129;01mor\u001b[39;00m _global_backward_pre_hooks \u001b[38;5;129;01mor\u001b[39;00m _global_backward_hooks\n\u001b[32m   1761\u001b[39m         \u001b[38;5;129;01mor\u001b[39;00m _global_forward_hooks \u001b[38;5;129;01mor\u001b[39;00m _global_forward_pre_hooks):\n\u001b[32m-> \u001b[39m\u001b[32m1762\u001b[39m     \u001b[38;5;28;01mreturn\u001b[39;00m \u001b[43mforward_call\u001b[49m\u001b[43m(\u001b[49m\u001b[43m*\u001b[49m\u001b[43margs\u001b[49m\u001b[43m,\u001b[49m\u001b[43m \u001b[49m\u001b[43m*\u001b[49m\u001b[43m*\u001b[49m\u001b[43mkwargs\u001b[49m\u001b[43m)\u001b[49m\n\u001b[32m   1764\u001b[39m result = \u001b[38;5;28;01mNone\u001b[39;00m\n\u001b[32m   1765\u001b[39m called_always_called_hooks = \u001b[38;5;28mset\u001b[39m()\n",
      "\u001b[36mFile \u001b[39m\u001b[32m/usr/local/lib/python3.11/dist-packages/transformer_lens/components/rms_norm.py:49\u001b[39m, in \u001b[36mRMSNorm.forward\u001b[39m\u001b[34m(self, x)\u001b[39m\n\u001b[32m     46\u001b[39m \u001b[38;5;28;01mif\u001b[39;00m x.device != \u001b[38;5;28mself\u001b[39m.w.device:\n\u001b[32m     47\u001b[39m     \u001b[38;5;28mself\u001b[39m.to(x.device)\n\u001b[32m---> \u001b[39m\u001b[32m49\u001b[39m \u001b[38;5;28;01mreturn\u001b[39;00m \u001b[43mx\u001b[49m\u001b[43m \u001b[49m\u001b[43m*\u001b[49m\u001b[43m \u001b[49m\u001b[38;5;28;43mself\u001b[39;49m\u001b[43m.\u001b[49m\u001b[43mw\u001b[49m\n",
      "\u001b[31mOutOfMemoryError\u001b[39m: CUDA out of memory. Tried to allocate 12.00 MiB. GPU 0 has a total capacity of 47.53 GiB of which 256.00 KiB is free. Process 834954 has 47.52 GiB memory in use. Of the allocated memory 46.74 GiB is allocated by PyTorch, and 483.19 MiB is reserved by PyTorch but unallocated. If reserved but unallocated memory is large try setting PYTORCH_CUDA_ALLOC_CONF=expandable_segments:True to avoid fragmentation.  See documentation for Memory Management  (https://pytorch.org/docs/stable/notes/cuda.html#environment-variables)"
     ]
    }
   ],
   "source": [
    "print(\"\\nRunning baseline forward passes...\")\n",
    "clean_logits, clean_cache = model.run_with_cache(clean_tokens)\n",
    "corrupted_logits, _ = model.run_with_cache(corrupted_tokens)"
   ]
  },
  {
   "cell_type": "code",
   "execution_count": null,
   "id": "ca296150-764b-4e2c-b2a5-a44f5e41bdd1",
   "metadata": {},
   "outputs": [],
   "source": []
  }
 ],
 "metadata": {
  "kernelspec": {
   "display_name": "Python 3 (ipykernel)",
   "language": "python",
   "name": "python3"
  },
  "language_info": {
   "codemirror_mode": {
    "name": "ipython",
    "version": 3
   },
   "file_extension": ".py",
   "mimetype": "text/x-python",
   "name": "python",
   "nbconvert_exporter": "python",
   "pygments_lexer": "ipython3",
   "version": "3.11.11"
  }
 },
 "nbformat": 4,
 "nbformat_minor": 5
}
